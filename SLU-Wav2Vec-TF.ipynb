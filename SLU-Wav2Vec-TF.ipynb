{
 "cells": [
  {
   "cell_type": "markdown",
   "id": "a6c3c41d",
   "metadata": {},
   "source": [
    "# Spoken Language Understanding "
   ]
  },
  {
   "cell_type": "markdown",
   "id": "94d460cd",
   "metadata": {},
   "source": [
    "## Requirements"
   ]
  },
  {
   "cell_type": "code",
   "execution_count": 1,
   "id": "a1f1334e",
   "metadata": {},
   "outputs": [],
   "source": [
    "!pip3 install -q git+https://github.com/vasudevgupta7/gsoc-wav2vec2@main"
   ]
  },
  {
   "cell_type": "code",
   "execution_count": 1,
   "id": "786b0ecc",
   "metadata": {},
   "outputs": [
    {
     "name": "stdout",
     "output_type": "stream",
     "text": [
      "TF version: 2.9.2\n"
     ]
    }
   ],
   "source": [
    "import numpy as np\n",
    "import pandas as pd\n",
    "import tensorflow as tf\n",
    "import tensorflow_hub as hub\n",
    "import matplotlib.pyplot as plt\n",
    "\n",
    "from pathlib import Path\n",
    "from wav2vec2 import Wav2Vec2Config\n",
    "\n",
    "config = Wav2Vec2Config()\n",
    "\n",
    "print(\"TF version:\", tf.__version__)"
   ]
  },
  {
   "cell_type": "code",
   "execution_count": 2,
   "id": "8569fade",
   "metadata": {},
   "outputs": [
    {
     "data": {
      "text/plain": [
       "[PhysicalDevice(name='/physical_device:CPU:0', device_type='CPU'),\n",
       " PhysicalDevice(name='/physical_device:GPU:0', device_type='GPU')]"
      ]
     },
     "execution_count": 2,
     "metadata": {},
     "output_type": "execute_result"
    }
   ],
   "source": [
    "tf.config.list_physical_devices()"
   ]
  },
  {
   "cell_type": "markdown",
   "id": "ab292759",
   "metadata": {},
   "source": [
    "## Read FSC Data"
   ]
  },
  {
   "cell_type": "code",
   "execution_count": 61,
   "id": "6ebdcf9c",
   "metadata": {},
   "outputs": [],
   "source": [
    "data_path = Path(\"../fluent_speech_commands_dataset\")\n",
    "train_data_path = data_path / \"data/train_data.csv\"\n",
    "train_data_df = pd.read_csv(train_data_path)"
   ]
  },
  {
   "cell_type": "code",
   "execution_count": 62,
   "id": "709f0146",
   "metadata": {},
   "outputs": [
    {
     "data": {
      "text/html": [
       "<div>\n",
       "<style scoped>\n",
       "    .dataframe tbody tr th:only-of-type {\n",
       "        vertical-align: middle;\n",
       "    }\n",
       "\n",
       "    .dataframe tbody tr th {\n",
       "        vertical-align: top;\n",
       "    }\n",
       "\n",
       "    .dataframe thead th {\n",
       "        text-align: right;\n",
       "    }\n",
       "</style>\n",
       "<table border=\"1\" class=\"dataframe\">\n",
       "  <thead>\n",
       "    <tr style=\"text-align: right;\">\n",
       "      <th></th>\n",
       "      <th>Unnamed: 0</th>\n",
       "      <th>path</th>\n",
       "      <th>speakerId</th>\n",
       "      <th>transcription</th>\n",
       "      <th>action</th>\n",
       "      <th>object</th>\n",
       "      <th>location</th>\n",
       "    </tr>\n",
       "  </thead>\n",
       "  <tbody>\n",
       "    <tr>\n",
       "      <th>0</th>\n",
       "      <td>0</td>\n",
       "      <td>wavs/speakers/2BqVo8kVB2Skwgyb/0a3129c0-4474-1...</td>\n",
       "      <td>2BqVo8kVB2Skwgyb</td>\n",
       "      <td>Change language</td>\n",
       "      <td>change language</td>\n",
       "      <td>none</td>\n",
       "      <td>none</td>\n",
       "    </tr>\n",
       "    <tr>\n",
       "      <th>1</th>\n",
       "      <td>1</td>\n",
       "      <td>wavs/speakers/2BqVo8kVB2Skwgyb/0ee42a80-4474-1...</td>\n",
       "      <td>2BqVo8kVB2Skwgyb</td>\n",
       "      <td>Resume</td>\n",
       "      <td>activate</td>\n",
       "      <td>music</td>\n",
       "      <td>none</td>\n",
       "    </tr>\n",
       "    <tr>\n",
       "      <th>2</th>\n",
       "      <td>2</td>\n",
       "      <td>wavs/speakers/2BqVo8kVB2Skwgyb/144d5be0-4474-1...</td>\n",
       "      <td>2BqVo8kVB2Skwgyb</td>\n",
       "      <td>Turn the lights on</td>\n",
       "      <td>activate</td>\n",
       "      <td>lights</td>\n",
       "      <td>none</td>\n",
       "    </tr>\n",
       "    <tr>\n",
       "      <th>3</th>\n",
       "      <td>3</td>\n",
       "      <td>wavs/speakers/2BqVo8kVB2Skwgyb/1811b6e0-4474-1...</td>\n",
       "      <td>2BqVo8kVB2Skwgyb</td>\n",
       "      <td>Switch on the lights</td>\n",
       "      <td>activate</td>\n",
       "      <td>lights</td>\n",
       "      <td>none</td>\n",
       "    </tr>\n",
       "    <tr>\n",
       "      <th>4</th>\n",
       "      <td>4</td>\n",
       "      <td>wavs/speakers/2BqVo8kVB2Skwgyb/1d9f3920-4474-1...</td>\n",
       "      <td>2BqVo8kVB2Skwgyb</td>\n",
       "      <td>Switch off the lights</td>\n",
       "      <td>deactivate</td>\n",
       "      <td>lights</td>\n",
       "      <td>none</td>\n",
       "    </tr>\n",
       "    <tr>\n",
       "      <th>5</th>\n",
       "      <td>5</td>\n",
       "      <td>wavs/speakers/2BqVo8kVB2Skwgyb/269fc210-4474-1...</td>\n",
       "      <td>2BqVo8kVB2Skwgyb</td>\n",
       "      <td>Volume up</td>\n",
       "      <td>increase</td>\n",
       "      <td>volume</td>\n",
       "      <td>none</td>\n",
       "    </tr>\n",
       "    <tr>\n",
       "      <th>6</th>\n",
       "      <td>6</td>\n",
       "      <td>wavs/speakers/2BqVo8kVB2Skwgyb/5bbda3f0-4478-1...</td>\n",
       "      <td>2BqVo8kVB2Skwgyb</td>\n",
       "      <td>Turn the volume up</td>\n",
       "      <td>increase</td>\n",
       "      <td>volume</td>\n",
       "      <td>none</td>\n",
       "    </tr>\n",
       "    <tr>\n",
       "      <th>7</th>\n",
       "      <td>7</td>\n",
       "      <td>wavs/speakers/2BqVo8kVB2Skwgyb/6436ad60-4478-1...</td>\n",
       "      <td>2BqVo8kVB2Skwgyb</td>\n",
       "      <td>Turn the volume down</td>\n",
       "      <td>decrease</td>\n",
       "      <td>volume</td>\n",
       "      <td>none</td>\n",
       "    </tr>\n",
       "    <tr>\n",
       "      <th>8</th>\n",
       "      <td>8</td>\n",
       "      <td>wavs/speakers/2BqVo8kVB2Skwgyb/6a1cd6f0-4478-1...</td>\n",
       "      <td>2BqVo8kVB2Skwgyb</td>\n",
       "      <td>Turn up the temperature</td>\n",
       "      <td>increase</td>\n",
       "      <td>heat</td>\n",
       "      <td>none</td>\n",
       "    </tr>\n",
       "    <tr>\n",
       "      <th>9</th>\n",
       "      <td>9</td>\n",
       "      <td>wavs/speakers/2BqVo8kVB2Skwgyb/72160200-4478-1...</td>\n",
       "      <td>2BqVo8kVB2Skwgyb</td>\n",
       "      <td>Turn the heat up</td>\n",
       "      <td>increase</td>\n",
       "      <td>heat</td>\n",
       "      <td>none</td>\n",
       "    </tr>\n",
       "  </tbody>\n",
       "</table>\n",
       "</div>"
      ],
      "text/plain": [
       "   Unnamed: 0                                               path  \\\n",
       "0           0  wavs/speakers/2BqVo8kVB2Skwgyb/0a3129c0-4474-1...   \n",
       "1           1  wavs/speakers/2BqVo8kVB2Skwgyb/0ee42a80-4474-1...   \n",
       "2           2  wavs/speakers/2BqVo8kVB2Skwgyb/144d5be0-4474-1...   \n",
       "3           3  wavs/speakers/2BqVo8kVB2Skwgyb/1811b6e0-4474-1...   \n",
       "4           4  wavs/speakers/2BqVo8kVB2Skwgyb/1d9f3920-4474-1...   \n",
       "5           5  wavs/speakers/2BqVo8kVB2Skwgyb/269fc210-4474-1...   \n",
       "6           6  wavs/speakers/2BqVo8kVB2Skwgyb/5bbda3f0-4478-1...   \n",
       "7           7  wavs/speakers/2BqVo8kVB2Skwgyb/6436ad60-4478-1...   \n",
       "8           8  wavs/speakers/2BqVo8kVB2Skwgyb/6a1cd6f0-4478-1...   \n",
       "9           9  wavs/speakers/2BqVo8kVB2Skwgyb/72160200-4478-1...   \n",
       "\n",
       "          speakerId            transcription           action  object location  \n",
       "0  2BqVo8kVB2Skwgyb          Change language  change language    none     none  \n",
       "1  2BqVo8kVB2Skwgyb                   Resume         activate   music     none  \n",
       "2  2BqVo8kVB2Skwgyb       Turn the lights on         activate  lights     none  \n",
       "3  2BqVo8kVB2Skwgyb     Switch on the lights         activate  lights     none  \n",
       "4  2BqVo8kVB2Skwgyb    Switch off the lights       deactivate  lights     none  \n",
       "5  2BqVo8kVB2Skwgyb                Volume up         increase  volume     none  \n",
       "6  2BqVo8kVB2Skwgyb       Turn the volume up         increase  volume     none  \n",
       "7  2BqVo8kVB2Skwgyb     Turn the volume down         decrease  volume     none  \n",
       "8  2BqVo8kVB2Skwgyb  Turn up the temperature         increase    heat     none  \n",
       "9  2BqVo8kVB2Skwgyb         Turn the heat up         increase    heat     none  "
      ]
     },
     "execution_count": 62,
     "metadata": {},
     "output_type": "execute_result"
    }
   ],
   "source": [
    "train_data_df.head(10)"
   ]
  },
  {
   "cell_type": "code",
   "execution_count": 63,
   "id": "66556375",
   "metadata": {},
   "outputs": [],
   "source": [
    "train_data_df = train_data_df.sample(frac=1).reset_index(drop=True)"
   ]
  },
  {
   "cell_type": "code",
   "execution_count": 64,
   "id": "24a99ed8",
   "metadata": {},
   "outputs": [
    {
     "data": {
      "text/html": [
       "<div>\n",
       "<style scoped>\n",
       "    .dataframe tbody tr th:only-of-type {\n",
       "        vertical-align: middle;\n",
       "    }\n",
       "\n",
       "    .dataframe tbody tr th {\n",
       "        vertical-align: top;\n",
       "    }\n",
       "\n",
       "    .dataframe thead th {\n",
       "        text-align: right;\n",
       "    }\n",
       "</style>\n",
       "<table border=\"1\" class=\"dataframe\">\n",
       "  <thead>\n",
       "    <tr style=\"text-align: right;\">\n",
       "      <th></th>\n",
       "      <th>Unnamed: 0</th>\n",
       "      <th>path</th>\n",
       "      <th>speakerId</th>\n",
       "      <th>transcription</th>\n",
       "      <th>action</th>\n",
       "      <th>object</th>\n",
       "      <th>location</th>\n",
       "    </tr>\n",
       "  </thead>\n",
       "  <tbody>\n",
       "    <tr>\n",
       "      <th>0</th>\n",
       "      <td>20718</td>\n",
       "      <td>wavs/speakers/xwzgmmv5ZOiVaxXz/1939aa20-453a-1...</td>\n",
       "      <td>xwzgmmv5ZOiVaxXz</td>\n",
       "      <td>Turn the lamp on</td>\n",
       "      <td>activate</td>\n",
       "      <td>lamp</td>\n",
       "      <td>none</td>\n",
       "    </tr>\n",
       "    <tr>\n",
       "      <th>1</th>\n",
       "      <td>40</td>\n",
       "      <td>wavs/speakers/2BqVo8kVB2Skwgyb/dead3b90-4478-1...</td>\n",
       "      <td>2BqVo8kVB2Skwgyb</td>\n",
       "      <td>Turn on the bathroom lights</td>\n",
       "      <td>activate</td>\n",
       "      <td>lights</td>\n",
       "      <td>washroom</td>\n",
       "    </tr>\n",
       "    <tr>\n",
       "      <th>2</th>\n",
       "      <td>10811</td>\n",
       "      <td>wavs/speakers/kxgXN97ALmHbaezp/a7aefec0-4465-1...</td>\n",
       "      <td>kxgXN97ALmHbaezp</td>\n",
       "      <td>Decrease the heating in the kitchen</td>\n",
       "      <td>decrease</td>\n",
       "      <td>heat</td>\n",
       "      <td>kitchen</td>\n",
       "    </tr>\n",
       "    <tr>\n",
       "      <th>3</th>\n",
       "      <td>15867</td>\n",
       "      <td>wavs/speakers/R3mXwwoaX9IoRVKe/dbddf870-4548-1...</td>\n",
       "      <td>R3mXwwoaX9IoRVKe</td>\n",
       "      <td>Lights off in the kitchen</td>\n",
       "      <td>deactivate</td>\n",
       "      <td>lights</td>\n",
       "      <td>kitchen</td>\n",
       "    </tr>\n",
       "    <tr>\n",
       "      <th>4</th>\n",
       "      <td>21180</td>\n",
       "      <td>wavs/speakers/YbmvamEWQ8faDPx2/f4b9b050-45e8-1...</td>\n",
       "      <td>YbmvamEWQ8faDPx2</td>\n",
       "      <td>Fetch my shoes</td>\n",
       "      <td>bring</td>\n",
       "      <td>shoes</td>\n",
       "      <td>none</td>\n",
       "    </tr>\n",
       "    <tr>\n",
       "      <th>5</th>\n",
       "      <td>1341</td>\n",
       "      <td>wavs/speakers/5BEzPgPKe8taG9OB/25053e80-457d-1...</td>\n",
       "      <td>5BEzPgPKe8taG9OB</td>\n",
       "      <td>Decrease the heating in the bathroom</td>\n",
       "      <td>decrease</td>\n",
       "      <td>heat</td>\n",
       "      <td>washroom</td>\n",
       "    </tr>\n",
       "    <tr>\n",
       "      <th>6</th>\n",
       "      <td>4803</td>\n",
       "      <td>wavs/speakers/AY5e3mMgZkIyG3Ox/66bedfe0-446d-1...</td>\n",
       "      <td>AY5e3mMgZkIyG3Ox</td>\n",
       "      <td>Too loud</td>\n",
       "      <td>decrease</td>\n",
       "      <td>volume</td>\n",
       "      <td>none</td>\n",
       "    </tr>\n",
       "    <tr>\n",
       "      <th>7</th>\n",
       "      <td>8873</td>\n",
       "      <td>wavs/speakers/gvKeNY2D3Rs2jRdL/1a4baa30-4599-1...</td>\n",
       "      <td>gvKeNY2D3Rs2jRdL</td>\n",
       "      <td>Make it louder</td>\n",
       "      <td>increase</td>\n",
       "      <td>volume</td>\n",
       "      <td>none</td>\n",
       "    </tr>\n",
       "    <tr>\n",
       "      <th>8</th>\n",
       "      <td>16282</td>\n",
       "      <td>wavs/speakers/R3mXwwoaX9IoRVKe/36656e90-4553-1...</td>\n",
       "      <td>R3mXwwoaX9IoRVKe</td>\n",
       "      <td>Set my phone's language to Chinese</td>\n",
       "      <td>change language</td>\n",
       "      <td>Chinese</td>\n",
       "      <td>none</td>\n",
       "    </tr>\n",
       "    <tr>\n",
       "      <th>9</th>\n",
       "      <td>10976</td>\n",
       "      <td>wavs/speakers/kxgXN97ALmHbaezp/9d988710-4467-1...</td>\n",
       "      <td>kxgXN97ALmHbaezp</td>\n",
       "      <td>Too quiet</td>\n",
       "      <td>increase</td>\n",
       "      <td>volume</td>\n",
       "      <td>none</td>\n",
       "    </tr>\n",
       "  </tbody>\n",
       "</table>\n",
       "</div>"
      ],
      "text/plain": [
       "   Unnamed: 0                                               path  \\\n",
       "0       20718  wavs/speakers/xwzgmmv5ZOiVaxXz/1939aa20-453a-1...   \n",
       "1          40  wavs/speakers/2BqVo8kVB2Skwgyb/dead3b90-4478-1...   \n",
       "2       10811  wavs/speakers/kxgXN97ALmHbaezp/a7aefec0-4465-1...   \n",
       "3       15867  wavs/speakers/R3mXwwoaX9IoRVKe/dbddf870-4548-1...   \n",
       "4       21180  wavs/speakers/YbmvamEWQ8faDPx2/f4b9b050-45e8-1...   \n",
       "5        1341  wavs/speakers/5BEzPgPKe8taG9OB/25053e80-457d-1...   \n",
       "6        4803  wavs/speakers/AY5e3mMgZkIyG3Ox/66bedfe0-446d-1...   \n",
       "7        8873  wavs/speakers/gvKeNY2D3Rs2jRdL/1a4baa30-4599-1...   \n",
       "8       16282  wavs/speakers/R3mXwwoaX9IoRVKe/36656e90-4553-1...   \n",
       "9       10976  wavs/speakers/kxgXN97ALmHbaezp/9d988710-4467-1...   \n",
       "\n",
       "          speakerId                         transcription           action  \\\n",
       "0  xwzgmmv5ZOiVaxXz                      Turn the lamp on         activate   \n",
       "1  2BqVo8kVB2Skwgyb           Turn on the bathroom lights         activate   \n",
       "2  kxgXN97ALmHbaezp   Decrease the heating in the kitchen         decrease   \n",
       "3  R3mXwwoaX9IoRVKe             Lights off in the kitchen       deactivate   \n",
       "4  YbmvamEWQ8faDPx2                        Fetch my shoes            bring   \n",
       "5  5BEzPgPKe8taG9OB  Decrease the heating in the bathroom         decrease   \n",
       "6  AY5e3mMgZkIyG3Ox                              Too loud         decrease   \n",
       "7  gvKeNY2D3Rs2jRdL                        Make it louder         increase   \n",
       "8  R3mXwwoaX9IoRVKe    Set my phone's language to Chinese  change language   \n",
       "9  kxgXN97ALmHbaezp                             Too quiet         increase   \n",
       "\n",
       "    object  location  \n",
       "0     lamp      none  \n",
       "1   lights  washroom  \n",
       "2     heat   kitchen  \n",
       "3   lights   kitchen  \n",
       "4    shoes      none  \n",
       "5     heat  washroom  \n",
       "6   volume      none  \n",
       "7   volume      none  \n",
       "8  Chinese      none  \n",
       "9   volume      none  "
      ]
     },
     "execution_count": 64,
     "metadata": {},
     "output_type": "execute_result"
    }
   ],
   "source": [
    "train_data_df.head(10)"
   ]
  },
  {
   "cell_type": "markdown",
   "id": "610b8552",
   "metadata": {},
   "source": [
    "## Targets"
   ]
  },
  {
   "cell_type": "code",
   "execution_count": 65,
   "id": "f1955bb9",
   "metadata": {},
   "outputs": [],
   "source": [
    "slots = ['action', 'object', 'location']\n",
    "action_object_location = [train_data_df[slot].unique() for slot in slots]"
   ]
  },
  {
   "cell_type": "code",
   "execution_count": 66,
   "id": "369893b7",
   "metadata": {},
   "outputs": [
    {
     "data": {
      "text/plain": [
       "[array(['activate', 'decrease', 'deactivate', 'bring', 'increase',\n",
       "        'change language'], dtype=object),\n",
       " array(['lamp', 'lights', 'heat', 'shoes', 'volume', 'Chinese', 'juice',\n",
       "        'music', 'socks', 'English', 'newspaper', 'none', 'German',\n",
       "        'Korean'], dtype=object),\n",
       " array(['none', 'washroom', 'kitchen', 'bedroom'], dtype=object)]"
      ]
     },
     "execution_count": 66,
     "metadata": {},
     "output_type": "execute_result"
    }
   ],
   "source": [
    "action_object_location"
   ]
  },
  {
   "cell_type": "code",
   "execution_count": 67,
   "id": "7e9b12e5",
   "metadata": {},
   "outputs": [
    {
     "data": {
      "text/plain": [
       "['activate',\n",
       " 'decrease',\n",
       " 'deactivate',\n",
       " 'bring',\n",
       " 'increase',\n",
       " 'change language',\n",
       " 'lamp',\n",
       " 'lights',\n",
       " 'heat',\n",
       " 'shoes',\n",
       " 'volume',\n",
       " 'Chinese',\n",
       " 'juice',\n",
       " 'music',\n",
       " 'socks',\n",
       " 'English',\n",
       " 'newspaper',\n",
       " 'none',\n",
       " 'German',\n",
       " 'Korean',\n",
       " 'none',\n",
       " 'washroom',\n",
       " 'kitchen',\n",
       " 'bedroom']"
      ]
     },
     "execution_count": 67,
     "metadata": {},
     "output_type": "execute_result"
    }
   ],
   "source": [
    "from itertools import chain\n",
    "\n",
    "targets = list(chain.from_iterable(action_object_location))\n",
    "targets"
   ]
  },
  {
   "cell_type": "markdown",
   "id": "51d133f0",
   "metadata": {},
   "source": [
    "### Encode Targets"
   ]
  },
  {
   "cell_type": "markdown",
   "id": "7808c5b8",
   "metadata": {},
   "source": [
    "Add special tokens for start and end of sequence"
   ]
  },
  {
   "cell_type": "code",
   "execution_count": 68,
   "id": "6ee62300",
   "metadata": {},
   "outputs": [],
   "source": [
    "sos = 0\n",
    "eos = 1\n",
    "target_to_index = {target: i+2 for i, target in enumerate(targets)}\n",
    "index_to_target = {index: target for target, index in target_to_index.items()}"
   ]
  },
  {
   "cell_type": "code",
   "execution_count": 69,
   "id": "86989fd8",
   "metadata": {},
   "outputs": [],
   "source": [
    "action_object_location = list(zip(train_data_df['action'], train_data_df['object'], train_data_df['location']))\n",
    "full_targets = np.asarray([[sos, target_to_index[action], target_to_index[obj], target_to_index[location], eos] for action, obj, location in action_object_location])"
   ]
  },
  {
   "cell_type": "code",
   "execution_count": 70,
   "id": "e05e1f45",
   "metadata": {},
   "outputs": [
    {
     "data": {
      "text/plain": [
       "array([[ 0,  2,  8, 22,  1],\n",
       "       [ 0,  2,  9, 23,  1],\n",
       "       [ 0,  3, 10, 24,  1],\n",
       "       ...,\n",
       "       [ 0,  2,  9, 25,  1],\n",
       "       [ 0,  4,  9, 25,  1],\n",
       "       [ 0,  7, 17, 22,  1]])"
      ]
     },
     "execution_count": 70,
     "metadata": {},
     "output_type": "execute_result"
    }
   ],
   "source": [
    "full_targets"
   ]
  },
  {
   "cell_type": "markdown",
   "id": "5b5f47c6",
   "metadata": {},
   "source": [
    "### Create Tiny DataSet"
   ]
  },
  {
   "cell_type": "markdown",
   "id": "3a335aa6",
   "metadata": {},
   "source": [
    "Tiny ds for proof of concept"
   ]
  },
  {
   "cell_type": "code",
   "execution_count": null,
   "id": "a349ce00",
   "metadata": {},
   "outputs": [],
   "source": [
    "BATCH_SIZE = 8\n",
    "TINY_SIZE = 128\n",
    "AUDIO_MAXLEN = 246000"
   ]
  },
  {
   "cell_type": "code",
   "execution_count": 73,
   "id": "6bfebf48",
   "metadata": {},
   "outputs": [
    {
     "data": {
      "text/plain": [
       "PosixPath('../fluent_speech_commands_dataset/wavs/speakers/xwzgmmv5ZOiVaxXz/1939aa20-453a-11e9-b1e4-e5985dca719e.wav')"
      ]
     },
     "execution_count": 73,
     "metadata": {},
     "output_type": "execute_result"
    }
   ],
   "source": [
    "data_path / train_data_df['path'][0]"
   ]
  },
  {
   "cell_type": "code",
   "execution_count": 74,
   "id": "0eededb1",
   "metadata": {},
   "outputs": [],
   "source": [
    "wav_files = train_data_df['path'][:TINY_SIZE+1].apply(lambda x: str(data_path / x))"
   ]
  },
  {
   "cell_type": "code",
   "execution_count": 85,
   "id": "47c16f5e",
   "metadata": {},
   "outputs": [
    {
     "data": {
      "text/plain": [
       "(TensorShape([49152, 1]), <tf.Tensor: shape=(), dtype=int32, numpy=16000>)"
      ]
     },
     "execution_count": 85,
     "metadata": {},
     "output_type": "execute_result"
    }
   ],
   "source": [
    "wav, sample_rate = tf.audio.decode_wav(tf.io.read_file(wav_files[3]))\n",
    "wav.shape, sample_rate"
   ]
  },
  {
   "cell_type": "code",
   "execution_count": 86,
   "id": "b3099b19",
   "metadata": {},
   "outputs": [
    {
     "data": {
      "image/png": "[encoded data removed]",
      "text/plain": [
       "<Figure size 640x480 with 1 Axes>"
      ]
     },
     "metadata": {},
     "output_type": "display_data"
    }
   ],
   "source": [
    "plt.plot(np.squeeze(wav.numpy()))\n",
    "plt.show()"
   ]
  },
  {
   "cell_type": "markdown",
   "id": "8d42d27c",
   "metadata": {},
   "source": [
    "Pre-process data according to what Wav2Vec expects"
   ]
  },
  {
   "cell_type": "code",
   "execution_count": 87,
   "id": "df461b65",
   "metadata": {},
   "outputs": [],
   "source": [
    "from wav2vec2 import Wav2Vec2Processor\n",
    "\n",
    "processor = Wav2Vec2Processor(is_tokenizer=False)\n",
    "\n",
    "def preprocess_speech(file_path):\n",
    "    audio, _ = tf.audio.decode_wav(tf.io.read_file(file_path))\n",
    "    return processor(tf.transpose(audio))"
   ]
  },
  {
   "cell_type": "code",
   "execution_count": 105,
   "id": "20e5167a",
   "metadata": {},
   "outputs": [],
   "source": [
    "speech_ds = tf.data.Dataset.from_tensor_slices(wav_files).map(preprocess_speech, num_parallel_calls=tf.data.AUTOTUNE)\n",
    "speech_ds = speech_ds.padded_batch(BATCH_SIZE, padded_shapes=AUDIO_MAXLEN, padding_values=0.0)"
   ]
  },
  {
   "cell_type": "code",
   "execution_count": 114,
   "id": "373cde31",
   "metadata": {},
   "outputs": [
    {
     "data": {
      "image/png": "[encoded data removed]",
      "text/plain": [
       "<Figure size 640x480 with 1 Axes>"
      ]
     },
     "metadata": {},
     "output_type": "display_data"
    }
   ],
   "source": [
    "plt.plot(next(iter(speech_ds))[15])\n",
    "plt.show()"
   ]
  },
  {
   "cell_type": "markdown",
   "id": "e6c5234a",
   "metadata": {},
   "source": [
    "## Create Targets"
   ]
  },
  {
   "cell_type": "markdown",
   "id": "55ac6fdd",
   "metadata": {},
   "source": [
    "* Decoder input is the target sequence without the EOS token \n",
    "* The output or prediction is the one-step ahead target sequence (predicts the next token)"
   ]
  },
  {
   "cell_type": "code",
   "execution_count": 90,
   "id": "b23b41b3",
   "metadata": {},
   "outputs": [],
   "source": [
    "def split_targets(target):\n",
    "    return target[:-1], target[1:]"
   ]
  },
  {
   "cell_type": "code",
   "execution_count": 91,
   "id": "c2cde5bf",
   "metadata": {},
   "outputs": [],
   "source": [
    "targets_next_targets = [split_targets(full_target) for full_target in full_targets[:TINY_SIZE]]\n",
    "targets, next_targets = zip(*targets_next_targets)\n",
    "targets = list(targets)\n",
    "next_targets = list(next_targets)"
   ]
  },
  {
   "cell_type": "code",
   "execution_count": 92,
   "id": "b52efa01",
   "metadata": {},
   "outputs": [
    {
     "data": {
      "text/plain": [
       "(array([[ 0,  2,  8, 22,  1],\n",
       "        [ 0,  2,  9, 23,  1],\n",
       "        [ 0,  3, 10, 24,  1],\n",
       "        [ 0,  4,  9, 24,  1]]),\n",
       " [array([ 0,  2,  8, 22]),\n",
       "  array([ 0,  2,  9, 23]),\n",
       "  array([ 0,  3, 10, 24]),\n",
       "  array([ 0,  4,  9, 24]),\n",
       "  array([ 0,  5, 11, 22]),\n",
       "  array([ 0,  3, 10, 23]),\n",
       "  array([ 0,  3, 12, 22]),\n",
       "  array([ 0,  6, 12, 22]),\n",
       "  array([ 0,  7, 13, 22]),\n",
       "  array([ 0,  6, 12, 22])],\n",
       " [array([ 2,  8, 22,  1]),\n",
       "  array([ 2,  9, 23,  1]),\n",
       "  array([ 3, 10, 24,  1]),\n",
       "  array([ 4,  9, 24,  1]),\n",
       "  array([ 5, 11, 22,  1]),\n",
       "  array([ 3, 10, 23,  1]),\n",
       "  array([ 3, 12, 22,  1]),\n",
       "  array([ 6, 12, 22,  1]),\n",
       "  array([ 7, 13, 22,  1]),\n",
       "  array([ 6, 12, 22,  1])])"
      ]
     },
     "execution_count": 92,
     "metadata": {},
     "output_type": "execute_result"
    }
   ],
   "source": [
    "full_targets[:4], targets[:10], next_targets[:10]"
   ]
  },
  {
   "cell_type": "code",
   "execution_count": 93,
   "id": "9e27ceae",
   "metadata": {},
   "outputs": [],
   "source": [
    "target_ds = tf.data.Dataset.from_tensor_slices(targets).batch(BATCH_SIZE)\n",
    "next_target_ds = tf.data.Dataset.from_tensor_slices(next_targets).batch(BATCH_SIZE)"
   ]
  },
  {
   "cell_type": "code",
   "execution_count": 94,
   "id": "40f295eb",
   "metadata": {},
   "outputs": [],
   "source": [
    "train_ds = tf.data.Dataset.zip((speech_ds, target_ds, next_target_ds))"
   ]
  },
  {
   "cell_type": "code",
   "execution_count": 95,
   "id": "f00ba99d",
   "metadata": {},
   "outputs": [],
   "source": [
    "def gerate_inputs_and_target(speech, target, next_target):\n",
    "    return {\"speech\": speech, \"target\": target}, next_target"
   ]
  },
  {
   "cell_type": "code",
   "execution_count": 96,
   "id": "ead267fd",
   "metadata": {},
   "outputs": [],
   "source": [
    "train_ds = train_ds.map(gerate_inputs_and_target, num_parallel_calls=tf.data.AUTOTUNE).prefetch(tf.data.AUTOTUNE).cache()"
   ]
  },
  {
   "cell_type": "code",
   "execution_count": 97,
   "id": "537bc9f2",
   "metadata": {},
   "outputs": [
    {
     "name": "stderr",
     "output_type": "stream",
     "text": [
      "2022-10-07 23:11:36.697420: W tensorflow/core/kernels/data/cache_dataset_ops.cc:856] The calling iterator did not fully read the dataset being cached. In order to avoid unexpected truncation of the dataset, the partially cached contents of the dataset  will be discarded. This can happen if you have an input pipeline similar to `dataset.cache().take(k).repeat()`. You should use `dataset.take(k).cache().repeat()` instead.\n"
     ]
    },
    {
     "data": {
      "text/plain": [
       "({'speech': <tf.Tensor: shape=(32, 246000), dtype=float32, numpy=\n",
       "  array([[1.22126105e-04, 1.22126105e-04, 1.22126105e-04, ...,\n",
       "          0.00000000e+00, 0.00000000e+00, 0.00000000e+00],\n",
       "         [6.98718708e-04, 6.98718708e-04, 6.98718708e-04, ...,\n",
       "          0.00000000e+00, 0.00000000e+00, 0.00000000e+00],\n",
       "         [8.07219039e-05, 8.07219039e-05, 8.07219039e-05, ...,\n",
       "          0.00000000e+00, 0.00000000e+00, 0.00000000e+00],\n",
       "         ...,\n",
       "         [1.01689286e-04, 1.01689286e-04, 1.01689286e-04, ...,\n",
       "          0.00000000e+00, 0.00000000e+00, 0.00000000e+00],\n",
       "         [5.80847613e-04, 5.80847613e-04, 5.80847613e-04, ...,\n",
       "          0.00000000e+00, 0.00000000e+00, 0.00000000e+00],\n",
       "         [4.35249793e-04, 4.35249793e-04, 4.35249793e-04, ...,\n",
       "          0.00000000e+00, 0.00000000e+00, 0.00000000e+00]], dtype=float32)>,\n",
       "  'target': <tf.Tensor: shape=(32, 4), dtype=int64, numpy=\n",
       "  array([[ 0,  2,  8, 22],\n",
       "         [ 0,  2,  9, 23],\n",
       "         [ 0,  3, 10, 24],\n",
       "         [ 0,  4,  9, 24],\n",
       "         [ 0,  5, 11, 22],\n",
       "         [ 0,  3, 10, 23],\n",
       "         [ 0,  3, 12, 22],\n",
       "         [ 0,  6, 12, 22],\n",
       "         [ 0,  7, 13, 22],\n",
       "         [ 0,  6, 12, 22],\n",
       "         [ 0,  4,  9, 25],\n",
       "         [ 0,  2,  9, 23],\n",
       "         [ 0,  5, 14, 22],\n",
       "         [ 0,  3, 12, 22],\n",
       "         [ 0,  4,  9, 24],\n",
       "         [ 0,  2,  9, 25],\n",
       "         [ 0,  6, 10, 23],\n",
       "         [ 0,  2, 15, 22],\n",
       "         [ 0,  5, 16, 22],\n",
       "         [ 0,  3, 10, 24],\n",
       "         [ 0,  2,  9, 22],\n",
       "         [ 0,  3, 12, 22],\n",
       "         [ 0,  4,  8, 22],\n",
       "         [ 0,  4,  9, 24],\n",
       "         [ 0,  6, 10, 22],\n",
       "         [ 0,  5, 14, 22],\n",
       "         [ 0,  4,  9, 24],\n",
       "         [ 0,  4,  9, 23],\n",
       "         [ 0,  3, 10, 24],\n",
       "         [ 0,  5, 16, 22],\n",
       "         [ 0,  3, 10, 23],\n",
       "         [ 0,  6, 10, 23]])>},\n",
       " <tf.Tensor: shape=(32, 4), dtype=int64, numpy=\n",
       " array([[ 2,  8, 22,  1],\n",
       "        [ 2,  9, 23,  1],\n",
       "        [ 3, 10, 24,  1],\n",
       "        [ 4,  9, 24,  1],\n",
       "        [ 5, 11, 22,  1],\n",
       "        [ 3, 10, 23,  1],\n",
       "        [ 3, 12, 22,  1],\n",
       "        [ 6, 12, 22,  1],\n",
       "        [ 7, 13, 22,  1],\n",
       "        [ 6, 12, 22,  1],\n",
       "        [ 4,  9, 25,  1],\n",
       "        [ 2,  9, 23,  1],\n",
       "        [ 5, 14, 22,  1],\n",
       "        [ 3, 12, 22,  1],\n",
       "        [ 4,  9, 24,  1],\n",
       "        [ 2,  9, 25,  1],\n",
       "        [ 6, 10, 23,  1],\n",
       "        [ 2, 15, 22,  1],\n",
       "        [ 5, 16, 22,  1],\n",
       "        [ 3, 10, 24,  1],\n",
       "        [ 2,  9, 22,  1],\n",
       "        [ 3, 12, 22,  1],\n",
       "        [ 4,  8, 22,  1],\n",
       "        [ 4,  9, 24,  1],\n",
       "        [ 6, 10, 22,  1],\n",
       "        [ 5, 14, 22,  1],\n",
       "        [ 4,  9, 24,  1],\n",
       "        [ 4,  9, 23,  1],\n",
       "        [ 3, 10, 24,  1],\n",
       "        [ 5, 16, 22,  1],\n",
       "        [ 3, 10, 23,  1],\n",
       "        [ 6, 10, 23,  1]])>)"
      ]
     },
     "execution_count": 97,
     "metadata": {},
     "output_type": "execute_result"
    }
   ],
   "source": [
    "in_batch = next(iter(train_ds))\n",
    "x_slu_inputs, y_next_targets = in_batch\n",
    "(x_slu_inputs,y_next_targets)"
   ]
  },
  {
   "cell_type": "markdown",
   "id": "d9c34100",
   "metadata": {},
   "source": [
    "## SLU Model"
   ]
  },
  {
   "cell_type": "markdown",
   "id": "b465785e",
   "metadata": {},
   "source": [
    "Seq2Seq architecure:\n",
    "* Encoder: Uses Wave2Vec as feature extractor and averages Wav2Vec hidden states to produce speech encodings\n",
    "* Decoder: Embedding layer to represent targets, followed by a GRU decoder with initial states initialized to Encoder output. Final layer is softmax over the target distribution"
   ]
  },
  {
   "cell_type": "markdown",
   "id": "ade9f0ec",
   "metadata": {},
   "source": [
    "###  Wave2Vec Feature Extractor"
   ]
  },
  {
   "cell_type": "code",
   "execution_count": 98,
   "id": "f41d5fb8",
   "metadata": {},
   "outputs": [],
   "source": [
    "AUDIO_MAXLEN = 246000\n",
    "wav2vec_layer = hub.KerasLayer(\"https://tfhub.dev/vasudevgupta7/wav2vec2/1\", trainable=False)"
   ]
  },
  {
   "cell_type": "markdown",
   "id": "a144ae71",
   "metadata": {},
   "source": [
    "### SLU Model with Decoder"
   ]
  },
  {
   "cell_type": "code",
   "execution_count": 99,
   "id": "342ab2d2",
   "metadata": {},
   "outputs": [],
   "source": [
    "vocab_size = len(index_to_target) + 2\n",
    "embedding_dim = 32\n",
    "latent_dim = 768\n",
    "max_input_len = 4"
   ]
  },
  {
   "cell_type": "code",
   "execution_count": 115,
   "id": "a887b551",
   "metadata": {},
   "outputs": [],
   "source": [
    "# Encoder\n",
    "speech_in = tf.keras.Input(shape=(AUDIO_MAXLEN,), name='speech')\n",
    "speech_embeddings = wav2vec_layer(speech_in, training=False)\n",
    "hidden_state = tf.keras.layers.GlobalAveragePooling1D()(speech_embeddings)\n",
    "# Decoder\n",
    "dis_input = tf.keras.Input(shape=(max_input_len,), name='target')\n",
    "x = tf.keras.layers.Embedding(vocab_size, embedding_dim, mask_zero=True, input_length=max_input_len)(dis_input)\n",
    "gru_decoder = tf.keras.layers.GRU(latent_dim, return_sequences=True)\n",
    "x = gru_decoder(x, initial_state=hidden_state)\n",
    "x = tf.keras.layers.Dropout(0.2)(x)\n",
    "target_ns = tf.keras.layers.Dense(vocab_size, activation='softmax')(x)\n",
    "slu = tf.keras.Model(inputs={'speech': speech_in, 'target': dis_input}, outputs=target_ns, name='slu')"
   ]
  },
  {
   "cell_type": "code",
   "execution_count": 116,
   "id": "149c2806",
   "metadata": {},
   "outputs": [
    {
     "name": "stdout",
     "output_type": "stream",
     "text": [
      "Model: \"slu\"\n",
      "__________________________________________________________________________________________________\n",
      " Layer (type)                   Output Shape         Param #     Connected to                     \n",
      "==================================================================================================\n",
      " speech (InputLayer)            [(None, 246000)]     0           []                               \n",
      "                                                                                                  \n",
      " target (InputLayer)            [(None, 4)]          0           []                               \n",
      "                                                                                                  \n",
      " keras_layer_1 (KerasLayer)     (None, 768, 768)     94371712    ['speech[0][0]']                 \n",
      "                                                                                                  \n",
      " embedding_2 (Embedding)        (None, 4, 32)        800         ['target[0][0]']                 \n",
      "                                                                                                  \n",
      " global_average_pooling1d_3 (Gl  (None, 768)         0           ['keras_layer_1[1][0]']          \n",
      " obalAveragePooling1D)                                                                            \n",
      "                                                                                                  \n",
      " gru_2 (GRU)                    (None, 4, 768)       1847808     ['embedding_2[0][0]',            \n",
      "                                                                  'global_average_pooling1d_3[0][0\n",
      "                                                                 ]']                              \n",
      "                                                                                                  \n",
      " dropout_2 (Dropout)            (None, 4, 768)       0           ['gru_2[0][0]']                  \n",
      "                                                                                                  \n",
      " dense_2 (Dense)                (None, 4, 25)        19225       ['dropout_2[0][0]']              \n",
      "                                                                                                  \n",
      "==================================================================================================\n",
      "Total params: 96,239,545\n",
      "Trainable params: 1,867,833\n",
      "Non-trainable params: 94,371,712\n",
      "__________________________________________________________________________________________________\n"
     ]
    }
   ],
   "source": [
    "slu.summary()"
   ]
  },
  {
   "cell_type": "code",
   "execution_count": 102,
   "id": "ac315157",
   "metadata": {},
   "outputs": [],
   "source": [
    "earlystopping_cb = tf.keras.callbacks.EarlyStopping(\n",
    "    monitor='loss',\n",
    "    patience=5,\n",
    "    restore_best_weights=True\n",
    ")"
   ]
  },
  {
   "cell_type": "code",
   "execution_count": 117,
   "id": "971ddd09",
   "metadata": {},
   "outputs": [],
   "source": [
    "slu.compile(loss=tf.keras.losses.SparseCategoricalCrossentropy(),\n",
    "            optimizer=tf.keras.optimizers.Adam(),\n",
    "            metrics=[\"accuracy\"])"
   ]
  },
  {
   "cell_type": "code",
   "execution_count": null,
   "id": "14a1c781",
   "metadata": {},
   "outputs": [
    {
     "name": "stdout",
     "output_type": "stream",
     "text": [
      "Epoch 1/50\n"
     ]
    },
    {
     "name": "stderr",
     "output_type": "stream",
     "text": [
      "2022-10-07 23:19:37.956178: I tensorflow/core/grappler/optimizers/custom_graph_optimizer_registry.cc:113] Plugin optimizer for device_type GPU is enabled.\n"
     ]
    }
   ],
   "source": [
    "history = slu.fit(train_ds, epochs=50)"
   ]
  },
  {
   "cell_type": "code",
   "execution_count": 54,
   "id": "59c23525",
   "metadata": {},
   "outputs": [
    {
     "name": "stderr",
     "output_type": "stream",
     "text": [
      "2022-10-07 23:06:32.514192: I tensorflow/core/grappler/optimizers/custom_graph_optimizer_registry.cc:113] Plugin optimizer for device_type GPU is enabled.\n"
     ]
    },
    {
     "name": "stdout",
     "output_type": "stream",
     "text": [
      "1/1 [==============================] - 4s 4s/step\n"
     ]
    },
    {
     "name": "stderr",
     "output_type": "stream",
     "text": [
      "2022-10-07 23:06:35.691615: I tensorflow/core/grappler/optimizers/custom_graph_optimizer_registry.cc:113] Plugin optimizer for device_type GPU is enabled.\n"
     ]
    }
   ],
   "source": [
    "yh = slu.predict(x_slu_inputs)"
   ]
  },
  {
   "cell_type": "code",
   "execution_count": 55,
   "id": "287414d8",
   "metadata": {},
   "outputs": [
    {
     "data": {
      "text/plain": [
       "(4, 4, 25)"
      ]
     },
     "execution_count": 55,
     "metadata": {},
     "output_type": "execute_result"
    }
   ],
   "source": [
    "yh.shape"
   ]
  },
  {
   "cell_type": "code",
   "execution_count": 56,
   "id": "3657acdd",
   "metadata": {},
   "outputs": [
    {
     "data": {
      "text/plain": [
       "array([[10, 22, 22,  1],\n",
       "       [10,  9, 22,  1],\n",
       "       [10, 10, 22,  1],\n",
       "       [10, 10, 11,  1]])"
      ]
     },
     "execution_count": 56,
     "metadata": {},
     "output_type": "execute_result"
    }
   ],
   "source": [
    "yh.argmax(axis=-1)"
   ]
  },
  {
   "cell_type": "code",
   "execution_count": 57,
   "id": "2e94f685",
   "metadata": {},
   "outputs": [
    {
     "data": {
      "text/plain": [
       "<tf.Tensor: shape=(4, 4), dtype=int64, numpy=\n",
       "array([[ 2, 22, 22,  1],\n",
       "       [ 3,  9, 22,  1],\n",
       "       [ 3, 10, 22,  1],\n",
       "       [ 3, 10, 22,  1]])>"
      ]
     },
     "execution_count": 57,
     "metadata": {},
     "output_type": "execute_result"
    }
   ],
   "source": [
    "y_next_targets"
   ]
  },
  {
   "cell_type": "code",
   "execution_count": 58,
   "id": "6cb94cf2",
   "metadata": {},
   "outputs": [
    {
     "data": {
      "text/plain": [
       "{2: 'change language',\n",
       " 3: 'activate',\n",
       " 4: 'deactivate',\n",
       " 5: 'increase',\n",
       " 6: 'decrease',\n",
       " 7: 'bring',\n",
       " 22: 'none',\n",
       " 9: 'music',\n",
       " 10: 'lights',\n",
       " 11: 'volume',\n",
       " 12: 'heat',\n",
       " 13: 'lamp',\n",
       " 14: 'newspaper',\n",
       " 15: 'juice',\n",
       " 16: 'socks',\n",
       " 17: 'Chinese',\n",
       " 18: 'Korean',\n",
       " 19: 'English',\n",
       " 20: 'German',\n",
       " 21: 'shoes',\n",
       " 23: 'kitchen',\n",
       " 24: 'bedroom',\n",
       " 25: 'washroom'}"
      ]
     },
     "execution_count": 58,
     "metadata": {},
     "output_type": "execute_result"
    }
   ],
   "source": [
    "index_to_target"
   ]
  },
  {
   "cell_type": "code",
   "execution_count": null,
   "id": "af4b852e",
   "metadata": {},
   "outputs": [],
   "source": []
  }
 ],
 "metadata": {
  "kernelspec": {
   "display_name": "slu",
   "language": "python",
   "name": "slu"
  },
  "language_info": {
   "codemirror_mode": {
    "name": "ipython",
    "version": 3
   },
   "file_extension": ".py",
   "mimetype": "text/x-python",
   "name": "python",
   "nbconvert_exporter": "python",
   "pygments_lexer": "ipython3",
   "version": "3.9.13"
  }
 },
 "nbformat": 4,
 "nbformat_minor": 5
}
