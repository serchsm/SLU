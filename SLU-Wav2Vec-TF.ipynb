{
 "cells": [
  {
   "cell_type": "markdown",
   "id": "8470888b",
   "metadata": {},
   "source": [
    "# Spoken Language Understanding "
   ]
  },
  {
   "cell_type": "markdown",
   "id": "a423487d",
   "metadata": {},
   "source": [
    "## Requirements"
   ]
  },
  {
   "cell_type": "code",
   "execution_count": 1,
   "id": "dedac6c1",
   "metadata": {},
   "outputs": [],
   "source": [
    "!pip3 install -q git+https://github.com/vasudevgupta7/gsoc-wav2vec2@main"
   ]
  },
  {
   "cell_type": "code",
   "execution_count": 51,
   "id": "62d401e4",
   "metadata": {},
   "outputs": [
    {
     "name": "stdout",
     "output_type": "stream",
     "text": [
      "TF version: 2.9.2\n"
     ]
    }
   ],
   "source": [
    "import numpy as np\n",
    "import pandas as pd\n",
    "import tensorflow as tf\n",
    "import tensorflow_hub as hub\n",
    "import matplotlib.pyplot as plt\n",
    "\n",
    "from pathlib import Path\n",
    "from wav2vec2 import Wav2Vec2Config\n",
    "\n",
    "config = Wav2Vec2Config()\n",
    "\n",
    "print(\"TF version:\", tf.__version__)"
   ]
  },
  {
   "cell_type": "code",
   "execution_count": 2,
   "id": "85f4ac31",
   "metadata": {},
   "outputs": [
    {
     "data": {
      "text/plain": [
       "[PhysicalDevice(name='/physical_device:CPU:0', device_type='CPU'),\n",
       " PhysicalDevice(name='/physical_device:GPU:0', device_type='GPU')]"
      ]
     },
     "execution_count": 2,
     "metadata": {},
     "output_type": "execute_result"
    }
   ],
   "source": [
    "tf.config.list_physical_devices()"
   ]
  },
  {
   "cell_type": "markdown",
   "id": "edac1b5a",
   "metadata": {},
   "source": [
    "## DataSet"
   ]
  },
  {
   "cell_type": "code",
   "execution_count": 43,
   "id": "e4f7d270",
   "metadata": {},
   "outputs": [],
   "source": [
    "data_path = Path(\"../fluent_speech_commands_dataset\")"
   ]
  },
  {
   "cell_type": "code",
   "execution_count": 44,
   "id": "fe16596f",
   "metadata": {},
   "outputs": [],
   "source": [
    "train_data_path = data_path / \"data/train_data.csv\""
   ]
  },
  {
   "cell_type": "code",
   "execution_count": 45,
   "id": "0bcb65c5",
   "metadata": {},
   "outputs": [],
   "source": [
    "train_data_df = pd.read_csv(train_data_path)"
   ]
  },
  {
   "cell_type": "code",
   "execution_count": 46,
   "id": "2377acad",
   "metadata": {},
   "outputs": [
    {
     "data": {
      "text/html": [
       "<div>\n",
       "<style scoped>\n",
       "    .dataframe tbody tr th:only-of-type {\n",
       "        vertical-align: middle;\n",
       "    }\n",
       "\n",
       "    .dataframe tbody tr th {\n",
       "        vertical-align: top;\n",
       "    }\n",
       "\n",
       "    .dataframe thead th {\n",
       "        text-align: right;\n",
       "    }\n",
       "</style>\n",
       "<table border=\"1\" class=\"dataframe\">\n",
       "  <thead>\n",
       "    <tr style=\"text-align: right;\">\n",
       "      <th></th>\n",
       "      <th>Unnamed: 0</th>\n",
       "      <th>path</th>\n",
       "      <th>speakerId</th>\n",
       "      <th>transcription</th>\n",
       "      <th>action</th>\n",
       "      <th>object</th>\n",
       "      <th>location</th>\n",
       "    </tr>\n",
       "  </thead>\n",
       "  <tbody>\n",
       "    <tr>\n",
       "      <th>0</th>\n",
       "      <td>0</td>\n",
       "      <td>wavs/speakers/2BqVo8kVB2Skwgyb/0a3129c0-4474-1...</td>\n",
       "      <td>2BqVo8kVB2Skwgyb</td>\n",
       "      <td>Change language</td>\n",
       "      <td>change language</td>\n",
       "      <td>none</td>\n",
       "      <td>none</td>\n",
       "    </tr>\n",
       "    <tr>\n",
       "      <th>1</th>\n",
       "      <td>1</td>\n",
       "      <td>wavs/speakers/2BqVo8kVB2Skwgyb/0ee42a80-4474-1...</td>\n",
       "      <td>2BqVo8kVB2Skwgyb</td>\n",
       "      <td>Resume</td>\n",
       "      <td>activate</td>\n",
       "      <td>music</td>\n",
       "      <td>none</td>\n",
       "    </tr>\n",
       "    <tr>\n",
       "      <th>2</th>\n",
       "      <td>2</td>\n",
       "      <td>wavs/speakers/2BqVo8kVB2Skwgyb/144d5be0-4474-1...</td>\n",
       "      <td>2BqVo8kVB2Skwgyb</td>\n",
       "      <td>Turn the lights on</td>\n",
       "      <td>activate</td>\n",
       "      <td>lights</td>\n",
       "      <td>none</td>\n",
       "    </tr>\n",
       "    <tr>\n",
       "      <th>3</th>\n",
       "      <td>3</td>\n",
       "      <td>wavs/speakers/2BqVo8kVB2Skwgyb/1811b6e0-4474-1...</td>\n",
       "      <td>2BqVo8kVB2Skwgyb</td>\n",
       "      <td>Switch on the lights</td>\n",
       "      <td>activate</td>\n",
       "      <td>lights</td>\n",
       "      <td>none</td>\n",
       "    </tr>\n",
       "    <tr>\n",
       "      <th>4</th>\n",
       "      <td>4</td>\n",
       "      <td>wavs/speakers/2BqVo8kVB2Skwgyb/1d9f3920-4474-1...</td>\n",
       "      <td>2BqVo8kVB2Skwgyb</td>\n",
       "      <td>Switch off the lights</td>\n",
       "      <td>deactivate</td>\n",
       "      <td>lights</td>\n",
       "      <td>none</td>\n",
       "    </tr>\n",
       "  </tbody>\n",
       "</table>\n",
       "</div>"
      ],
      "text/plain": [
       "   Unnamed: 0                                               path  \\\n",
       "0           0  wavs/speakers/2BqVo8kVB2Skwgyb/0a3129c0-4474-1...   \n",
       "1           1  wavs/speakers/2BqVo8kVB2Skwgyb/0ee42a80-4474-1...   \n",
       "2           2  wavs/speakers/2BqVo8kVB2Skwgyb/144d5be0-4474-1...   \n",
       "3           3  wavs/speakers/2BqVo8kVB2Skwgyb/1811b6e0-4474-1...   \n",
       "4           4  wavs/speakers/2BqVo8kVB2Skwgyb/1d9f3920-4474-1...   \n",
       "\n",
       "          speakerId          transcription           action  object location  \n",
       "0  2BqVo8kVB2Skwgyb        Change language  change language    none     none  \n",
       "1  2BqVo8kVB2Skwgyb                 Resume         activate   music     none  \n",
       "2  2BqVo8kVB2Skwgyb     Turn the lights on         activate  lights     none  \n",
       "3  2BqVo8kVB2Skwgyb   Switch on the lights         activate  lights     none  \n",
       "4  2BqVo8kVB2Skwgyb  Switch off the lights       deactivate  lights     none  "
      ]
     },
     "execution_count": 46,
     "metadata": {},
     "output_type": "execute_result"
    }
   ],
   "source": [
    "train_data_df.head(5)"
   ]
  },
  {
   "cell_type": "code",
   "execution_count": 10,
   "id": "f88ed67a",
   "metadata": {},
   "outputs": [],
   "source": [
    "slots = ['action', 'object', 'location']\n",
    "action_object_location = [train_data_df[slot].unique() for slot in slots]"
   ]
  },
  {
   "cell_type": "code",
   "execution_count": 11,
   "id": "608f2aa4",
   "metadata": {},
   "outputs": [
    {
     "data": {
      "text/plain": [
       "[array(['change language', 'activate', 'deactivate', 'increase',\n",
       "        'decrease', 'bring'], dtype=object),\n",
       " array(['none', 'music', 'lights', 'volume', 'heat', 'lamp', 'newspaper',\n",
       "        'juice', 'socks', 'Chinese', 'Korean', 'English', 'German',\n",
       "        'shoes'], dtype=object),\n",
       " array(['none', 'kitchen', 'bedroom', 'washroom'], dtype=object)]"
      ]
     },
     "execution_count": 11,
     "metadata": {},
     "output_type": "execute_result"
    }
   ],
   "source": [
    "action_object_location"
   ]
  },
  {
   "cell_type": "code",
   "execution_count": 12,
   "id": "efaa5ce3",
   "metadata": {},
   "outputs": [
    {
     "data": {
      "text/plain": [
       "['change language',\n",
       " 'activate',\n",
       " 'deactivate',\n",
       " 'increase',\n",
       " 'decrease',\n",
       " 'bring',\n",
       " 'none',\n",
       " 'music',\n",
       " 'lights',\n",
       " 'volume',\n",
       " 'heat',\n",
       " 'lamp',\n",
       " 'newspaper',\n",
       " 'juice',\n",
       " 'socks',\n",
       " 'Chinese',\n",
       " 'Korean',\n",
       " 'English',\n",
       " 'German',\n",
       " 'shoes',\n",
       " 'none',\n",
       " 'kitchen',\n",
       " 'bedroom',\n",
       " 'washroom']"
      ]
     },
     "execution_count": 12,
     "metadata": {},
     "output_type": "execute_result"
    }
   ],
   "source": [
    "from itertools import chain\n",
    "\n",
    "targets = list(chain.from_iterable(action_object_location))\n",
    "targets"
   ]
  },
  {
   "cell_type": "code",
   "execution_count": 13,
   "id": "5378a373",
   "metadata": {},
   "outputs": [],
   "source": [
    "sos = 0\n",
    "eos = 1\n",
    "target_to_index = {target: i+2 for i, target in enumerate(targets)}\n",
    "index_to_target = {index: target for target, index in target_to_index.items()}"
   ]
  },
  {
   "cell_type": "code",
   "execution_count": 14,
   "id": "547d8d11",
   "metadata": {},
   "outputs": [],
   "source": [
    "action_object_location = list(zip(train_data_df['action'], train_data_df['object'], train_data_df['location']))\n",
    "full_targets = np.asarray([[sos, target_to_index[action], target_to_index[obj], target_to_index[location], eos] for action, obj, location in action_object_location])"
   ]
  },
  {
   "cell_type": "code",
   "execution_count": 15,
   "id": "c92d3e0c",
   "metadata": {},
   "outputs": [
    {
     "data": {
      "text/plain": [
       "array([[ 0,  2, 22, 22,  1],\n",
       "       [ 0,  3,  9, 22,  1],\n",
       "       [ 0,  3, 10, 22,  1],\n",
       "       ...,\n",
       "       [ 0,  2, 18, 22,  1],\n",
       "       [ 0,  2, 19, 22,  1],\n",
       "       [ 0,  4, 10, 25,  1]])"
      ]
     },
     "execution_count": 15,
     "metadata": {},
     "output_type": "execute_result"
    }
   ],
   "source": [
    "full_targets"
   ]
  },
  {
   "cell_type": "markdown",
   "id": "3dafefcf",
   "metadata": {},
   "source": [
    "### Create DataSet"
   ]
  },
  {
   "cell_type": "code",
   "execution_count": 70,
   "id": "1b7d19dd",
   "metadata": {},
   "outputs": [],
   "source": [
    "BATCH_SIZE = 4\n",
    "TINY_SIZE = 128\n",
    "AUDIO_MAXLEN = 246000"
   ]
  },
  {
   "cell_type": "code",
   "execution_count": 47,
   "id": "ce038d67",
   "metadata": {},
   "outputs": [],
   "source": [
    "wav_files = train_data_df['path'][:TINY_SIZE+1].apply(lambda x: str(data_path / x))"
   ]
  },
  {
   "cell_type": "code",
   "execution_count": 65,
   "id": "96d111a8",
   "metadata": {},
   "outputs": [
    {
     "data": {
      "text/plain": [
       "(TensorShape([29722, 1]), <tf.Tensor: shape=(), dtype=int32, numpy=16000>)"
      ]
     },
     "execution_count": 65,
     "metadata": {},
     "output_type": "execute_result"
    }
   ],
   "source": [
    "wav, sample_rate = tf.audio.decode_wav(tf.io.read_file(wav_files[0]))\n",
    "wav.shape, sample_rate"
   ]
  },
  {
   "cell_type": "code",
   "execution_count": 53,
   "id": "c549db3a",
   "metadata": {},
   "outputs": [
    {
     "data": {
      "image/png": "[encoded data removed]",
      "text/plain": [
       "<Figure size 640x480 with 1 Axes>"
      ]
     },
     "metadata": {},
     "output_type": "display_data"
    }
   ],
   "source": [
    "plt.plot(np.squeeze(wav.numpy()))\n",
    "plt.show()"
   ]
  },
  {
   "cell_type": "code",
   "execution_count": 83,
   "id": "ec354357",
   "metadata": {},
   "outputs": [],
   "source": [
    "from wav2vec2 import Wav2Vec2Processor\n",
    "\n",
    "processor = Wav2Vec2Processor(is_tokenizer=False)\n",
    "\n",
    "def preprocess_speech(file_path):\n",
    "    audio, _ = tf.audio.decode_wav(tf.io.read_file(file_path))\n",
    "    return processor(tf.transpose(audio))"
   ]
  },
  {
   "cell_type": "code",
   "execution_count": 88,
   "id": "19dd470d",
   "metadata": {},
   "outputs": [],
   "source": [
    "audio = preprocess_speech(wav_files[2])"
   ]
  },
  {
   "cell_type": "code",
   "execution_count": 89,
   "id": "d5da95b7",
   "metadata": {},
   "outputs": [
    {
     "data": {
      "image/png": "[encoded data removed]",
      "text/plain": [
       "<Figure size 640x480 with 1 Axes>"
      ]
     },
     "metadata": {},
     "output_type": "display_data"
    }
   ],
   "source": [
    "plt.plot(np.squeeze(audio.numpy()))\n",
    "plt.show()"
   ]
  },
  {
   "cell_type": "code",
   "execution_count": 90,
   "id": "9680cb7a",
   "metadata": {},
   "outputs": [],
   "source": [
    "train_ds = tf.data.Dataset.from_tensor_slices(wav_files).map(preprocess_speech)\n",
    "train_ds = train_ds.padded_batch(BATCH_SIZE, padded_shapes=AUDIO_MAXLEN, padding_values=0.0)"
   ]
  },
  {
   "cell_type": "code",
   "execution_count": 91,
   "id": "770b277c",
   "metadata": {},
   "outputs": [
    {
     "data": {
      "text/plain": [
       "<tf.Tensor: shape=(4, 246000), dtype=float32, numpy=\n",
       "array([[-0.00016894, -0.00016894, -0.00016894, ...,  0.        ,\n",
       "         0.        ,  0.        ],\n",
       "       [ 0.00112627,  0.00112627,  0.00112627, ...,  0.        ,\n",
       "         0.        ,  0.        ],\n",
       "       [ 0.00031107,  0.00031107,  0.00031107, ...,  0.        ,\n",
       "         0.        ,  0.        ],\n",
       "       [ 0.00119347,  0.00119347,  0.00119347, ...,  0.        ,\n",
       "         0.        ,  0.        ]], dtype=float32)>"
      ]
     },
     "execution_count": 91,
     "metadata": {},
     "output_type": "execute_result"
    }
   ],
   "source": [
    "next(iter(train_ds))"
   ]
  },
  {
   "cell_type": "code",
   "execution_count": 93,
   "id": "6e341fa7",
   "metadata": {},
   "outputs": [
    {
     "data": {
      "image/png": "[encoded data removed]",
      "text/plain": [
       "<Figure size 640x480 with 1 Axes>"
      ]
     },
     "metadata": {},
     "output_type": "display_data"
    }
   ],
   "source": [
    "plt.plot(next(iter(train_ds))[3])\n",
    "plt.show()"
   ]
  },
  {
   "cell_type": "code",
   "execution_count": 17,
   "id": "a16be325",
   "metadata": {},
   "outputs": [],
   "source": [
    "def split_targets(target):\n",
    "    return target[:-1], target[1:]\n",
    "\n",
    "def gerate_inputs_and_target(speech, target, next_target):\n",
    "    return {\"speech\": speech, \"target\": target}, next_target"
   ]
  },
  {
   "cell_type": "code",
   "execution_count": 33,
   "id": "39ad862b",
   "metadata": {},
   "outputs": [],
   "source": [
    "targets_next_targets = [split_targets(full_target) for full_target in full_targets[:TINY_SIZE]]\n",
    "targets, next_targets = zip(*targets_next_targets)\n",
    "targets = list(targets)\n",
    "next_targets = list(next_targets)"
   ]
  },
  {
   "cell_type": "code",
   "execution_count": 34,
   "id": "42d04e89",
   "metadata": {},
   "outputs": [
    {
     "data": {
      "text/plain": [
       "[array([ 2, 22, 22,  1]),\n",
       " array([ 3,  9, 22,  1]),\n",
       " array([ 3, 10, 22,  1]),\n",
       " array([ 3, 10, 22,  1]),\n",
       " array([ 4, 10, 22,  1]),\n",
       " array([ 5, 11, 22,  1]),\n",
       " array([ 5, 11, 22,  1]),\n",
       " array([ 6, 11, 22,  1]),\n",
       " array([ 5, 12, 22,  1]),\n",
       " array([ 5, 12, 22,  1]),\n",
       " array([ 6, 12, 22,  1]),\n",
       " array([ 6, 12, 22,  1]),\n",
       " array([ 6, 12, 22,  1]),\n",
       " array([ 6, 12, 22,  1]),\n",
       " array([ 4,  9, 22,  1]),\n",
       " array([ 4,  9, 22,  1]),\n",
       " array([ 3,  9, 22,  1]),\n",
       " array([ 3,  9, 22,  1]),\n",
       " array([ 3,  9, 22,  1]),\n",
       " array([ 3, 13, 22,  1]),\n",
       " array([ 3, 13, 22,  1]),\n",
       " array([ 3, 13, 22,  1]),\n",
       " array([ 4, 13, 22,  1]),\n",
       " array([ 4, 13, 22,  1]),\n",
       " array([ 4, 13, 22,  1]),\n",
       " array([ 3, 10, 23,  1]),\n",
       " array([ 3, 10, 23,  1]),\n",
       " array([ 3, 10, 23,  1]),\n",
       " array([ 3, 10, 23,  1]),\n",
       " array([ 3, 10, 23,  1]),\n",
       " array([ 3, 10, 23,  1]),\n",
       " array([ 3, 10, 23,  1]),\n",
       " array([ 3, 10, 23,  1]),\n",
       " array([ 3, 10, 24,  1]),\n",
       " array([ 3, 10, 24,  1]),\n",
       " array([ 3, 10, 25,  1]),\n",
       " array([ 3, 10, 25,  1]),\n",
       " array([ 3, 10, 25,  1]),\n",
       " array([ 3, 10, 25,  1]),\n",
       " array([ 3, 10, 25,  1]),\n",
       " array([ 3, 10, 25,  1]),\n",
       " array([ 3, 10, 25,  1]),\n",
       " array([ 3, 10, 25,  1]),\n",
       " array([ 3, 10, 25,  1]),\n",
       " array([ 3, 10, 25,  1]),\n",
       " array([ 4, 10, 22,  1]),\n",
       " array([ 4, 10, 23,  1]),\n",
       " array([ 4, 10, 23,  1]),\n",
       " array([ 4, 10, 23,  1]),\n",
       " array([ 4, 10, 23,  1]),\n",
       " array([ 4, 10, 24,  1]),\n",
       " array([ 4, 10, 24,  1]),\n",
       " array([ 4, 10, 24,  1]),\n",
       " array([ 4, 10, 25,  1]),\n",
       " array([ 4, 10, 25,  1]),\n",
       " array([ 4, 10, 25,  1]),\n",
       " array([ 5, 11, 22,  1]),\n",
       " array([ 5, 11, 22,  1]),\n",
       " array([ 5, 11, 22,  1]),\n",
       " array([ 5, 11, 22,  1]),\n",
       " array([ 5, 11, 22,  1]),\n",
       " array([ 5, 11, 22,  1]),\n",
       " array([ 5, 11, 22,  1]),\n",
       " array([ 5, 11, 22,  1]),\n",
       " array([ 5, 11, 22,  1]),\n",
       " array([ 5, 11, 22,  1]),\n",
       " array([ 6, 11, 22,  1]),\n",
       " array([ 6, 11, 22,  1]),\n",
       " array([ 6, 11, 22,  1]),\n",
       " array([ 6, 11, 22,  1]),\n",
       " array([ 6, 11, 22,  1]),\n",
       " array([ 6, 11, 22,  1]),\n",
       " array([ 6, 11, 22,  1]),\n",
       " array([ 6, 11, 22,  1]),\n",
       " array([ 6, 11, 22,  1]),\n",
       " array([ 6, 11, 22,  1]),\n",
       " array([ 6, 11, 22,  1]),\n",
       " array([ 6, 11, 22,  1]),\n",
       " array([ 5, 12, 22,  1]),\n",
       " array([ 5, 12, 22,  1]),\n",
       " array([ 5, 12, 22,  1]),\n",
       " array([ 5, 12, 22,  1]),\n",
       " array([ 5, 12, 22,  1]),\n",
       " array([ 5, 12, 22,  1]),\n",
       " array([ 5, 12, 23,  1]),\n",
       " array([ 5, 12, 23,  1]),\n",
       " array([ 5, 12, 23,  1]),\n",
       " array([ 5, 12, 23,  1]),\n",
       " array([ 5, 12, 24,  1]),\n",
       " array([ 5, 12, 24,  1]),\n",
       " array([ 5, 12, 24,  1]),\n",
       " array([ 5, 12, 24,  1]),\n",
       " array([ 5, 12, 24,  1]),\n",
       " array([ 5, 12, 24,  1]),\n",
       " array([ 5, 12, 25,  1]),\n",
       " array([ 5, 12, 25,  1]),\n",
       " array([ 5, 12, 25,  1]),\n",
       " array([ 5, 12, 25,  1]),\n",
       " array([ 5, 12, 25,  1]),\n",
       " array([ 5, 12, 25,  1]),\n",
       " array([ 5, 12, 25,  1]),\n",
       " array([ 5, 12, 25,  1]),\n",
       " array([ 5, 12, 25,  1]),\n",
       " array([ 5, 12, 25,  1]),\n",
       " array([ 6, 12, 22,  1]),\n",
       " array([ 6, 12, 22,  1]),\n",
       " array([ 6, 12, 22,  1]),\n",
       " array([ 6, 12, 23,  1]),\n",
       " array([ 6, 12, 23,  1]),\n",
       " array([ 6, 12, 23,  1]),\n",
       " array([ 6, 12, 23,  1]),\n",
       " array([ 6, 12, 24,  1]),\n",
       " array([ 6, 12, 24,  1]),\n",
       " array([ 6, 12, 24,  1]),\n",
       " array([ 6, 12, 24,  1]),\n",
       " array([ 6, 12, 24,  1]),\n",
       " array([ 6, 12, 25,  1]),\n",
       " array([ 6, 12, 25,  1]),\n",
       " array([ 6, 12, 25,  1]),\n",
       " array([ 6, 12, 25,  1]),\n",
       " array([ 6, 12, 25,  1]),\n",
       " array([ 6, 12, 25,  1]),\n",
       " array([ 6, 12, 25,  1]),\n",
       " array([ 6, 12, 25,  1]),\n",
       " array([ 6, 12, 25,  1]),\n",
       " array([ 4,  9, 22,  1]),\n",
       " array([ 4,  9, 22,  1]),\n",
       " array([ 7, 14, 22,  1])]"
      ]
     },
     "execution_count": 34,
     "metadata": {},
     "output_type": "execute_result"
    }
   ],
   "source": [
    "next_targets"
   ]
  },
  {
   "cell_type": "markdown",
   "id": "03e48b9b",
   "metadata": {},
   "source": [
    "## SLU Model"
   ]
  },
  {
   "cell_type": "markdown",
   "id": "f13b41d5",
   "metadata": {},
   "source": [
    "###  Wave2Vec Feature Extractor"
   ]
  },
  {
   "cell_type": "code",
   "execution_count": 6,
   "id": "12453999",
   "metadata": {},
   "outputs": [
    {
     "name": "stdout",
     "output_type": "stream",
     "text": [
      "Metal device set to: Apple M1\n"
     ]
    },
    {
     "name": "stderr",
     "output_type": "stream",
     "text": [
      "2022-09-10 00:20:15.766109: I tensorflow/core/common_runtime/pluggable_device/pluggable_device_factory.cc:305] Could not identify NUMA node of platform GPU ID 0, defaulting to 0. Your kernel may not have been built with NUMA support.\n",
      "2022-09-10 00:20:15.766994: I tensorflow/core/common_runtime/pluggable_device/pluggable_device_factory.cc:271] Created TensorFlow device (/job:localhost/replica:0/task:0/device:GPU:0 with 0 MB memory) -> physical PluggableDevice (device: 0, name: METAL, pci bus id: <undefined>)\n"
     ]
    }
   ],
   "source": [
    "AUDIO_MAXLEN = 246000\n",
    "BATCH_SIZE = 2\n",
    "wav2vec_layer = hub.KerasLayer(\"https://tfhub.dev/vasudevgupta7/wav2vec2/1\", trainable=False)"
   ]
  },
  {
   "cell_type": "code",
   "execution_count": 11,
   "id": "25febc5a",
   "metadata": {},
   "outputs": [
    {
     "name": "stderr",
     "output_type": "stream",
     "text": [
      "2022-09-10 00:37:54.724553: W tensorflow/core/platform/profile_utils/cpu_utils.cc:128] Failed to get CPU frequency: 0 Hz\n",
      "2022-09-10 00:37:54.734275: I tensorflow/core/grappler/optimizers/custom_graph_optimizer_registry.cc:113] Plugin optimizer for device_type GPU is enabled.\n"
     ]
    }
   ],
   "source": [
    "inputs = tf.keras.Input(shape=(AUDIO_MAXLEN,))\n",
    "hidden_states = wav2vec_layer(inputs)\n",
    "\n",
    "feature_extractor = tf.keras.Model(inputs=inputs, outputs=hidden_states, name='feature_extractor')\n",
    "\n",
    "y = feature_extractor(tf.random.uniform(shape=(BATCH_SIZE, AUDIO_MAXLEN)))"
   ]
  },
  {
   "cell_type": "code",
   "execution_count": 13,
   "id": "234546cf",
   "metadata": {},
   "outputs": [
    {
     "name": "stdout",
     "output_type": "stream",
     "text": [
      "Model: \"feature_extractor\"\n",
      "_________________________________________________________________\n",
      " Layer (type)                Output Shape              Param #   \n",
      "=================================================================\n",
      " input_1 (InputLayer)        [(None, 246000)]          0         \n",
      "                                                                 \n",
      " keras_layer (KerasLayer)    (None, 768, 768)          94371712  \n",
      "                                                                 \n",
      "=================================================================\n",
      "Total params: 94,371,712\n",
      "Trainable params: 0\n",
      "Non-trainable params: 94,371,712\n",
      "_________________________________________________________________\n"
     ]
    }
   ],
   "source": [
    "feature_extractor.summary()"
   ]
  },
  {
   "cell_type": "code",
   "execution_count": 12,
   "id": "31d19709",
   "metadata": {},
   "outputs": [
    {
     "data": {
      "text/plain": [
       "TensorShape([2, 768, 768])"
      ]
     },
     "execution_count": 12,
     "metadata": {},
     "output_type": "execute_result"
    }
   ],
   "source": [
    "y.shape"
   ]
  },
  {
   "cell_type": "markdown",
   "id": "5eaf4ff0",
   "metadata": {},
   "source": [
    "### SLU Model with Decoder"
   ]
  },
  {
   "cell_type": "code",
   "execution_count": 7,
   "id": "f2099824",
   "metadata": {},
   "outputs": [],
   "source": [
    "vocab_size = len(index_to_target) + 2\n",
    "embedding_dim = 32\n",
    "latent_dim = 768\n",
    "max_len = 4"
   ]
  },
  {
   "cell_type": "code",
   "execution_count": 14,
   "id": "d016a05d",
   "metadata": {},
   "outputs": [],
   "source": [
    "inputs = tf.keras.Input(shape=(AUDIO_MAXLEN,))\n",
    "speech_embeddings = wav2vec_layer(inputs)\n",
    "hidden_state = tf.keras.layers.GlobalAveragePooling1D()(speech_embeddings)\n",
    "# Decoder\n",
    "dis_input = tf.keras.Input(shape=(max_len,), name='dis')\n",
    "speech_embeddings = tf.keras.Input(shape=(latent_dim,), name='speech_embeddings')\n",
    "x = tf.keras.layers.Embedding(vocab_size, embedding_dim, mask_zero=True, input_length=max_input_len)(dis_input)\n",
    "gru_decoder = tf.keras.layers.GRU(latent_dim, return_sequences=True)\n",
    "x = gru_decoder(x, initial_state=speech_embeddings)\n",
    "x = tf.keras.layers.Dropout(0.2)(x)\n",
    "target_next_step = tf.keras.layers.Dense(vocab_size, activation='softmax')(x)\n",
    "slu = tf.keras.Model(inputs=[inputs, dis_input], outputs=target_next_step, name='slu')"
   ]
  },
  {
   "cell_type": "code",
   "execution_count": 15,
   "id": "f49d0bc5",
   "metadata": {},
   "outputs": [],
   "source": [
    "y = slu(tf.random.uniform(shape=(BATCH_SIZE, AUDIO_MAXLEN)))"
   ]
  },
  {
   "cell_type": "code",
   "execution_count": 16,
   "id": "3d2c788b",
   "metadata": {},
   "outputs": [
    {
     "data": {
      "text/plain": [
       "TensorShape([2, 768])"
      ]
     },
     "execution_count": 16,
     "metadata": {},
     "output_type": "execute_result"
    }
   ],
   "source": [
    "y.shape"
   ]
  }
 ],
 "metadata": {
  "kernelspec": {
   "display_name": "slu",
   "language": "python",
   "name": "slu"
  },
  "language_info": {
   "codemirror_mode": {
    "name": "ipython",
    "version": 3
   },
   "file_extension": ".py",
   "mimetype": "text/x-python",
   "name": "python",
   "nbconvert_exporter": "python",
   "pygments_lexer": "ipython3",
   "version": "3.9.13"
  }
 },
 "nbformat": 4,
 "nbformat_minor": 5
}
