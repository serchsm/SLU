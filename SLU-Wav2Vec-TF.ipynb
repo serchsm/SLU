{
 "cells": [
  {
   "cell_type": "markdown",
   "id": "48fe73de",
   "metadata": {},
   "source": [
    "# Spoken Language Understanding "
   ]
  },
  {
   "cell_type": "markdown",
   "id": "2507f5fe",
   "metadata": {},
   "source": [
    "## Requirements"
   ]
  },
  {
   "cell_type": "code",
   "execution_count": 1,
   "id": "23ee51c8",
   "metadata": {},
   "outputs": [],
   "source": [
    "!pip3 install -q git+https://github.com/vasudevgupta7/gsoc-wav2vec2@main"
   ]
  },
  {
   "cell_type": "code",
   "execution_count": 2,
   "id": "b5615e02",
   "metadata": {},
   "outputs": [
    {
     "name": "stdout",
     "output_type": "stream",
     "text": [
      "TF version: 2.9.2\n"
     ]
    }
   ],
   "source": [
    "import numpy as np\n",
    "import pandas as pd\n",
    "import tensorflow as tf\n",
    "import tensorflow_hub as hub\n",
    "import matplotlib.pyplot as plt\n",
    "\n",
    "from pathlib import Path\n",
    "from wav2vec2 import Wav2Vec2Config\n",
    "\n",
    "config = Wav2Vec2Config()\n",
    "\n",
    "print(\"TF version:\", tf.__version__)"
   ]
  },
  {
   "cell_type": "code",
   "execution_count": 3,
   "id": "6cc85007",
   "metadata": {},
   "outputs": [
    {
     "data": {
      "text/plain": [
       "[PhysicalDevice(name='/physical_device:CPU:0', device_type='CPU'),\n",
       " PhysicalDevice(name='/physical_device:GPU:0', device_type='GPU')]"
      ]
     },
     "execution_count": 3,
     "metadata": {},
     "output_type": "execute_result"
    }
   ],
   "source": [
    "tf.config.list_physical_devices()"
   ]
  },
  {
   "cell_type": "markdown",
   "id": "c7e3c99a",
   "metadata": {},
   "source": [
    "## Read FSC Data"
   ]
  },
  {
   "cell_type": "code",
   "execution_count": 4,
   "id": "ef5506fb",
   "metadata": {},
   "outputs": [],
   "source": [
    "data_path = Path(\"../fluent_speech_commands_dataset\")\n",
    "train_data_path = data_path / \"data/train_data.csv\"\n",
    "train_data_df = pd.read_csv(train_data_path)"
   ]
  },
  {
   "cell_type": "code",
   "execution_count": 5,
   "id": "5e14f1a5",
   "metadata": {},
   "outputs": [
    {
     "data": {
      "text/html": [
       "<div>\n",
       "<style scoped>\n",
       "    .dataframe tbody tr th:only-of-type {\n",
       "        vertical-align: middle;\n",
       "    }\n",
       "\n",
       "    .dataframe tbody tr th {\n",
       "        vertical-align: top;\n",
       "    }\n",
       "\n",
       "    .dataframe thead th {\n",
       "        text-align: right;\n",
       "    }\n",
       "</style>\n",
       "<table border=\"1\" class=\"dataframe\">\n",
       "  <thead>\n",
       "    <tr style=\"text-align: right;\">\n",
       "      <th></th>\n",
       "      <th>Unnamed: 0</th>\n",
       "      <th>path</th>\n",
       "      <th>speakerId</th>\n",
       "      <th>transcription</th>\n",
       "      <th>action</th>\n",
       "      <th>object</th>\n",
       "      <th>location</th>\n",
       "    </tr>\n",
       "  </thead>\n",
       "  <tbody>\n",
       "    <tr>\n",
       "      <th>0</th>\n",
       "      <td>0</td>\n",
       "      <td>wavs/speakers/2BqVo8kVB2Skwgyb/0a3129c0-4474-1...</td>\n",
       "      <td>2BqVo8kVB2Skwgyb</td>\n",
       "      <td>Change language</td>\n",
       "      <td>change language</td>\n",
       "      <td>none</td>\n",
       "      <td>none</td>\n",
       "    </tr>\n",
       "    <tr>\n",
       "      <th>1</th>\n",
       "      <td>1</td>\n",
       "      <td>wavs/speakers/2BqVo8kVB2Skwgyb/0ee42a80-4474-1...</td>\n",
       "      <td>2BqVo8kVB2Skwgyb</td>\n",
       "      <td>Resume</td>\n",
       "      <td>activate</td>\n",
       "      <td>music</td>\n",
       "      <td>none</td>\n",
       "    </tr>\n",
       "    <tr>\n",
       "      <th>2</th>\n",
       "      <td>2</td>\n",
       "      <td>wavs/speakers/2BqVo8kVB2Skwgyb/144d5be0-4474-1...</td>\n",
       "      <td>2BqVo8kVB2Skwgyb</td>\n",
       "      <td>Turn the lights on</td>\n",
       "      <td>activate</td>\n",
       "      <td>lights</td>\n",
       "      <td>none</td>\n",
       "    </tr>\n",
       "    <tr>\n",
       "      <th>3</th>\n",
       "      <td>3</td>\n",
       "      <td>wavs/speakers/2BqVo8kVB2Skwgyb/1811b6e0-4474-1...</td>\n",
       "      <td>2BqVo8kVB2Skwgyb</td>\n",
       "      <td>Switch on the lights</td>\n",
       "      <td>activate</td>\n",
       "      <td>lights</td>\n",
       "      <td>none</td>\n",
       "    </tr>\n",
       "    <tr>\n",
       "      <th>4</th>\n",
       "      <td>4</td>\n",
       "      <td>wavs/speakers/2BqVo8kVB2Skwgyb/1d9f3920-4474-1...</td>\n",
       "      <td>2BqVo8kVB2Skwgyb</td>\n",
       "      <td>Switch off the lights</td>\n",
       "      <td>deactivate</td>\n",
       "      <td>lights</td>\n",
       "      <td>none</td>\n",
       "    </tr>\n",
       "    <tr>\n",
       "      <th>5</th>\n",
       "      <td>5</td>\n",
       "      <td>wavs/speakers/2BqVo8kVB2Skwgyb/269fc210-4474-1...</td>\n",
       "      <td>2BqVo8kVB2Skwgyb</td>\n",
       "      <td>Volume up</td>\n",
       "      <td>increase</td>\n",
       "      <td>volume</td>\n",
       "      <td>none</td>\n",
       "    </tr>\n",
       "    <tr>\n",
       "      <th>6</th>\n",
       "      <td>6</td>\n",
       "      <td>wavs/speakers/2BqVo8kVB2Skwgyb/5bbda3f0-4478-1...</td>\n",
       "      <td>2BqVo8kVB2Skwgyb</td>\n",
       "      <td>Turn the volume up</td>\n",
       "      <td>increase</td>\n",
       "      <td>volume</td>\n",
       "      <td>none</td>\n",
       "    </tr>\n",
       "    <tr>\n",
       "      <th>7</th>\n",
       "      <td>7</td>\n",
       "      <td>wavs/speakers/2BqVo8kVB2Skwgyb/6436ad60-4478-1...</td>\n",
       "      <td>2BqVo8kVB2Skwgyb</td>\n",
       "      <td>Turn the volume down</td>\n",
       "      <td>decrease</td>\n",
       "      <td>volume</td>\n",
       "      <td>none</td>\n",
       "    </tr>\n",
       "    <tr>\n",
       "      <th>8</th>\n",
       "      <td>8</td>\n",
       "      <td>wavs/speakers/2BqVo8kVB2Skwgyb/6a1cd6f0-4478-1...</td>\n",
       "      <td>2BqVo8kVB2Skwgyb</td>\n",
       "      <td>Turn up the temperature</td>\n",
       "      <td>increase</td>\n",
       "      <td>heat</td>\n",
       "      <td>none</td>\n",
       "    </tr>\n",
       "    <tr>\n",
       "      <th>9</th>\n",
       "      <td>9</td>\n",
       "      <td>wavs/speakers/2BqVo8kVB2Skwgyb/72160200-4478-1...</td>\n",
       "      <td>2BqVo8kVB2Skwgyb</td>\n",
       "      <td>Turn the heat up</td>\n",
       "      <td>increase</td>\n",
       "      <td>heat</td>\n",
       "      <td>none</td>\n",
       "    </tr>\n",
       "  </tbody>\n",
       "</table>\n",
       "</div>"
      ],
      "text/plain": [
       "   Unnamed: 0                                               path  \\\n",
       "0           0  wavs/speakers/2BqVo8kVB2Skwgyb/0a3129c0-4474-1...   \n",
       "1           1  wavs/speakers/2BqVo8kVB2Skwgyb/0ee42a80-4474-1...   \n",
       "2           2  wavs/speakers/2BqVo8kVB2Skwgyb/144d5be0-4474-1...   \n",
       "3           3  wavs/speakers/2BqVo8kVB2Skwgyb/1811b6e0-4474-1...   \n",
       "4           4  wavs/speakers/2BqVo8kVB2Skwgyb/1d9f3920-4474-1...   \n",
       "5           5  wavs/speakers/2BqVo8kVB2Skwgyb/269fc210-4474-1...   \n",
       "6           6  wavs/speakers/2BqVo8kVB2Skwgyb/5bbda3f0-4478-1...   \n",
       "7           7  wavs/speakers/2BqVo8kVB2Skwgyb/6436ad60-4478-1...   \n",
       "8           8  wavs/speakers/2BqVo8kVB2Skwgyb/6a1cd6f0-4478-1...   \n",
       "9           9  wavs/speakers/2BqVo8kVB2Skwgyb/72160200-4478-1...   \n",
       "\n",
       "          speakerId            transcription           action  object location  \n",
       "0  2BqVo8kVB2Skwgyb          Change language  change language    none     none  \n",
       "1  2BqVo8kVB2Skwgyb                   Resume         activate   music     none  \n",
       "2  2BqVo8kVB2Skwgyb       Turn the lights on         activate  lights     none  \n",
       "3  2BqVo8kVB2Skwgyb     Switch on the lights         activate  lights     none  \n",
       "4  2BqVo8kVB2Skwgyb    Switch off the lights       deactivate  lights     none  \n",
       "5  2BqVo8kVB2Skwgyb                Volume up         increase  volume     none  \n",
       "6  2BqVo8kVB2Skwgyb       Turn the volume up         increase  volume     none  \n",
       "7  2BqVo8kVB2Skwgyb     Turn the volume down         decrease  volume     none  \n",
       "8  2BqVo8kVB2Skwgyb  Turn up the temperature         increase    heat     none  \n",
       "9  2BqVo8kVB2Skwgyb         Turn the heat up         increase    heat     none  "
      ]
     },
     "execution_count": 5,
     "metadata": {},
     "output_type": "execute_result"
    }
   ],
   "source": [
    "train_data_df.head(10)"
   ]
  },
  {
   "cell_type": "code",
   "execution_count": 6,
   "id": "43bf58d9",
   "metadata": {},
   "outputs": [],
   "source": [
    "train_data_df = train_data_df.sample(frac=1).reset_index(drop=True)"
   ]
  },
  {
   "cell_type": "code",
   "execution_count": 7,
   "id": "b0a0a225",
   "metadata": {},
   "outputs": [
    {
     "data": {
      "text/html": [
       "<div>\n",
       "<style scoped>\n",
       "    .dataframe tbody tr th:only-of-type {\n",
       "        vertical-align: middle;\n",
       "    }\n",
       "\n",
       "    .dataframe tbody tr th {\n",
       "        vertical-align: top;\n",
       "    }\n",
       "\n",
       "    .dataframe thead th {\n",
       "        text-align: right;\n",
       "    }\n",
       "</style>\n",
       "<table border=\"1\" class=\"dataframe\">\n",
       "  <thead>\n",
       "    <tr style=\"text-align: right;\">\n",
       "      <th></th>\n",
       "      <th>Unnamed: 0</th>\n",
       "      <th>path</th>\n",
       "      <th>speakerId</th>\n",
       "      <th>transcription</th>\n",
       "      <th>action</th>\n",
       "      <th>object</th>\n",
       "      <th>location</th>\n",
       "    </tr>\n",
       "  </thead>\n",
       "  <tbody>\n",
       "    <tr>\n",
       "      <th>0</th>\n",
       "      <td>22865</td>\n",
       "      <td>wavs/speakers/zZezMeg5XvcbRdg3/d75c8c90-45d8-1...</td>\n",
       "      <td>zZezMeg5XvcbRdg3</td>\n",
       "      <td>Change system language</td>\n",
       "      <td>change language</td>\n",
       "      <td>none</td>\n",
       "      <td>none</td>\n",
       "    </tr>\n",
       "    <tr>\n",
       "      <th>1</th>\n",
       "      <td>4142</td>\n",
       "      <td>wavs/speakers/AvR9dePW88IynbaE/e0b6fef0-4520-1...</td>\n",
       "      <td>AvR9dePW88IynbaE</td>\n",
       "      <td>Turn the temperature up in the washroom</td>\n",
       "      <td>increase</td>\n",
       "      <td>heat</td>\n",
       "      <td>washroom</td>\n",
       "    </tr>\n",
       "    <tr>\n",
       "      <th>2</th>\n",
       "      <td>16262</td>\n",
       "      <td>wavs/speakers/R3mXwwoaX9IoRVKe/c6250320-4552-1...</td>\n",
       "      <td>R3mXwwoaX9IoRVKe</td>\n",
       "      <td>Fetch my shoes</td>\n",
       "      <td>bring</td>\n",
       "      <td>shoes</td>\n",
       "      <td>none</td>\n",
       "    </tr>\n",
       "    <tr>\n",
       "      <th>3</th>\n",
       "      <td>4927</td>\n",
       "      <td>wavs/speakers/AY5e3mMgZkIyG3Ox/4c0cb2b0-446f-1...</td>\n",
       "      <td>AY5e3mMgZkIyG3Ox</td>\n",
       "      <td>Set my phone's language to German</td>\n",
       "      <td>change language</td>\n",
       "      <td>German</td>\n",
       "      <td>none</td>\n",
       "    </tr>\n",
       "    <tr>\n",
       "      <th>4</th>\n",
       "      <td>12653</td>\n",
       "      <td>wavs/speakers/n5XllaB4gZFwZXkBz/771dcfd0-45f4-...</td>\n",
       "      <td>n5XllaB4gZFwZXkBz</td>\n",
       "      <td>Turn the temperature down in the washroom</td>\n",
       "      <td>decrease</td>\n",
       "      <td>heat</td>\n",
       "      <td>washroom</td>\n",
       "    </tr>\n",
       "    <tr>\n",
       "      <th>5</th>\n",
       "      <td>2680</td>\n",
       "      <td>wavs/speakers/8e5qRjN7dGuovkRY/dd488ee0-459e-1...</td>\n",
       "      <td>8e5qRjN7dGuovkRY</td>\n",
       "      <td>Get me my shoes</td>\n",
       "      <td>bring</td>\n",
       "      <td>shoes</td>\n",
       "      <td>none</td>\n",
       "    </tr>\n",
       "    <tr>\n",
       "      <th>6</th>\n",
       "      <td>12364</td>\n",
       "      <td>wavs/speakers/n5XllaB4gZFwZXkBz/241c1ac0-45f0-...</td>\n",
       "      <td>n5XllaB4gZFwZXkBz</td>\n",
       "      <td>Turn up the temperature in the bedroom</td>\n",
       "      <td>increase</td>\n",
       "      <td>heat</td>\n",
       "      <td>bedroom</td>\n",
       "    </tr>\n",
       "    <tr>\n",
       "      <th>7</th>\n",
       "      <td>11642</td>\n",
       "      <td>wavs/speakers/M4ybygBlWqImBn9oZ/37761810-454f-...</td>\n",
       "      <td>M4ybygBlWqImBn9oZ</td>\n",
       "      <td>Turn it down</td>\n",
       "      <td>decrease</td>\n",
       "      <td>volume</td>\n",
       "      <td>none</td>\n",
       "    </tr>\n",
       "    <tr>\n",
       "      <th>8</th>\n",
       "      <td>16441</td>\n",
       "      <td>wavs/speakers/RjDBre8jzzhdr4YL/3fae4ba0-4415-1...</td>\n",
       "      <td>RjDBre8jzzhdr4YL</td>\n",
       "      <td>Make it cooler</td>\n",
       "      <td>decrease</td>\n",
       "      <td>heat</td>\n",
       "      <td>none</td>\n",
       "    </tr>\n",
       "    <tr>\n",
       "      <th>9</th>\n",
       "      <td>13563</td>\n",
       "      <td>wavs/speakers/ObdQbr9wyDfbmW4E/45726fa0-4454-1...</td>\n",
       "      <td>ObdQbr9wyDfbmW4E</td>\n",
       "      <td>Could you increase the heating?</td>\n",
       "      <td>increase</td>\n",
       "      <td>heat</td>\n",
       "      <td>none</td>\n",
       "    </tr>\n",
       "  </tbody>\n",
       "</table>\n",
       "</div>"
      ],
      "text/plain": [
       "   Unnamed: 0                                               path  \\\n",
       "0       22865  wavs/speakers/zZezMeg5XvcbRdg3/d75c8c90-45d8-1...   \n",
       "1        4142  wavs/speakers/AvR9dePW88IynbaE/e0b6fef0-4520-1...   \n",
       "2       16262  wavs/speakers/R3mXwwoaX9IoRVKe/c6250320-4552-1...   \n",
       "3        4927  wavs/speakers/AY5e3mMgZkIyG3Ox/4c0cb2b0-446f-1...   \n",
       "4       12653  wavs/speakers/n5XllaB4gZFwZXkBz/771dcfd0-45f4-...   \n",
       "5        2680  wavs/speakers/8e5qRjN7dGuovkRY/dd488ee0-459e-1...   \n",
       "6       12364  wavs/speakers/n5XllaB4gZFwZXkBz/241c1ac0-45f0-...   \n",
       "7       11642  wavs/speakers/M4ybygBlWqImBn9oZ/37761810-454f-...   \n",
       "8       16441  wavs/speakers/RjDBre8jzzhdr4YL/3fae4ba0-4415-1...   \n",
       "9       13563  wavs/speakers/ObdQbr9wyDfbmW4E/45726fa0-4454-1...   \n",
       "\n",
       "           speakerId                              transcription  \\\n",
       "0   zZezMeg5XvcbRdg3                     Change system language   \n",
       "1   AvR9dePW88IynbaE    Turn the temperature up in the washroom   \n",
       "2   R3mXwwoaX9IoRVKe                             Fetch my shoes   \n",
       "3   AY5e3mMgZkIyG3Ox          Set my phone's language to German   \n",
       "4  n5XllaB4gZFwZXkBz  Turn the temperature down in the washroom   \n",
       "5   8e5qRjN7dGuovkRY                            Get me my shoes   \n",
       "6  n5XllaB4gZFwZXkBz     Turn up the temperature in the bedroom   \n",
       "7  M4ybygBlWqImBn9oZ                               Turn it down   \n",
       "8   RjDBre8jzzhdr4YL                             Make it cooler   \n",
       "9   ObdQbr9wyDfbmW4E            Could you increase the heating?   \n",
       "\n",
       "            action  object  location  \n",
       "0  change language    none      none  \n",
       "1         increase    heat  washroom  \n",
       "2            bring   shoes      none  \n",
       "3  change language  German      none  \n",
       "4         decrease    heat  washroom  \n",
       "5            bring   shoes      none  \n",
       "6         increase    heat   bedroom  \n",
       "7         decrease  volume      none  \n",
       "8         decrease    heat      none  \n",
       "9         increase    heat      none  "
      ]
     },
     "execution_count": 7,
     "metadata": {},
     "output_type": "execute_result"
    }
   ],
   "source": [
    "train_data_df.head(10)"
   ]
  },
  {
   "cell_type": "markdown",
   "id": "622919fa",
   "metadata": {},
   "source": [
    "## Targets"
   ]
  },
  {
   "cell_type": "code",
   "execution_count": 8,
   "id": "c20ac1be",
   "metadata": {},
   "outputs": [],
   "source": [
    "slots = ['action', 'object', 'location']\n",
    "action_object_location = [train_data_df[slot].unique() for slot in slots]"
   ]
  },
  {
   "cell_type": "code",
   "execution_count": 9,
   "id": "7becdb56",
   "metadata": {},
   "outputs": [
    {
     "data": {
      "text/plain": [
       "[array(['change language', 'increase', 'bring', 'decrease', 'activate',\n",
       "        'deactivate'], dtype=object),\n",
       " array(['none', 'heat', 'shoes', 'German', 'volume', 'lights', 'Chinese',\n",
       "        'lamp', 'music', 'juice', 'English', 'socks', 'newspaper',\n",
       "        'Korean'], dtype=object),\n",
       " array(['none', 'washroom', 'bedroom', 'kitchen'], dtype=object)]"
      ]
     },
     "execution_count": 9,
     "metadata": {},
     "output_type": "execute_result"
    }
   ],
   "source": [
    "action_object_location"
   ]
  },
  {
   "cell_type": "code",
   "execution_count": 10,
   "id": "48fee6fa",
   "metadata": {},
   "outputs": [
    {
     "data": {
      "text/plain": [
       "['change language',\n",
       " 'increase',\n",
       " 'bring',\n",
       " 'decrease',\n",
       " 'activate',\n",
       " 'deactivate',\n",
       " 'none',\n",
       " 'heat',\n",
       " 'shoes',\n",
       " 'German',\n",
       " 'volume',\n",
       " 'lights',\n",
       " 'Chinese',\n",
       " 'lamp',\n",
       " 'music',\n",
       " 'juice',\n",
       " 'English',\n",
       " 'socks',\n",
       " 'newspaper',\n",
       " 'Korean',\n",
       " 'none',\n",
       " 'washroom',\n",
       " 'bedroom',\n",
       " 'kitchen']"
      ]
     },
     "execution_count": 10,
     "metadata": {},
     "output_type": "execute_result"
    }
   ],
   "source": [
    "from itertools import chain\n",
    "\n",
    "targets = list(chain.from_iterable(action_object_location))\n",
    "targets"
   ]
  },
  {
   "cell_type": "markdown",
   "id": "f8b4d63f",
   "metadata": {},
   "source": [
    "### Encode Targets"
   ]
  },
  {
   "cell_type": "markdown",
   "id": "a15b68fb",
   "metadata": {},
   "source": [
    "Add special tokens for start and end of sequence"
   ]
  },
  {
   "cell_type": "code",
   "execution_count": 11,
   "id": "0479049e",
   "metadata": {},
   "outputs": [],
   "source": [
    "sos = 0\n",
    "eos = 1\n",
    "target_to_index = {target: i+2 for i, target in enumerate(targets)}\n",
    "index_to_target = {index: target for target, index in target_to_index.items()}"
   ]
  },
  {
   "cell_type": "code",
   "execution_count": 12,
   "id": "8d89a7e8",
   "metadata": {},
   "outputs": [],
   "source": [
    "action_object_location = list(zip(train_data_df['action'], train_data_df['object'], train_data_df['location']))\n",
    "full_targets = np.asarray([[sos, target_to_index[action], target_to_index[obj], target_to_index[location], eos] for action, obj, location in action_object_location])"
   ]
  },
  {
   "cell_type": "code",
   "execution_count": 13,
   "id": "36b8a735",
   "metadata": {},
   "outputs": [
    {
     "data": {
      "text/plain": [
       "array([[ 0,  2, 22, 22,  1],\n",
       "       [ 0,  3,  9, 23,  1],\n",
       "       [ 0,  4, 10, 22,  1],\n",
       "       ...,\n",
       "       [ 0,  5,  9, 25,  1],\n",
       "       [ 0,  5,  9, 23,  1],\n",
       "       [ 0,  5,  9, 23,  1]])"
      ]
     },
     "execution_count": 13,
     "metadata": {},
     "output_type": "execute_result"
    }
   ],
   "source": [
    "full_targets"
   ]
  },
  {
   "cell_type": "markdown",
   "id": "2ceccfed",
   "metadata": {},
   "source": [
    "### Create Tiny DataSet"
   ]
  },
  {
   "cell_type": "markdown",
   "id": "e734919a",
   "metadata": {},
   "source": [
    "Tiny ds for proof of concept"
   ]
  },
  {
   "cell_type": "code",
   "execution_count": 14,
   "id": "65832ff6",
   "metadata": {},
   "outputs": [],
   "source": [
    "BATCH_SIZE = 8\n",
    "TINY_SIZE = 128\n",
    "AUDIO_MAXLEN = 246000"
   ]
  },
  {
   "cell_type": "code",
   "execution_count": 15,
   "id": "373a9e7a",
   "metadata": {},
   "outputs": [
    {
     "data": {
      "text/plain": [
       "PosixPath('../fluent_speech_commands_dataset/wavs/speakers/zZezMeg5XvcbRdg3/d75c8c90-45d8-11e9-81ce-69b74fd7e64e.wav')"
      ]
     },
     "execution_count": 15,
     "metadata": {},
     "output_type": "execute_result"
    }
   ],
   "source": [
    "data_path / train_data_df['path'][0]"
   ]
  },
  {
   "cell_type": "code",
   "execution_count": 16,
   "id": "82f23a4d",
   "metadata": {},
   "outputs": [],
   "source": [
    "wav_files = train_data_df['path'][:TINY_SIZE+1].apply(lambda x: str(data_path / x))"
   ]
  },
  {
   "cell_type": "code",
   "execution_count": 17,
   "id": "a90ea7b6",
   "metadata": {},
   "outputs": [
    {
     "name": "stdout",
     "output_type": "stream",
     "text": [
      "Metal device set to: Apple M1\n"
     ]
    },
    {
     "name": "stderr",
     "output_type": "stream",
     "text": [
      "2022-10-12 01:43:02.517089: I tensorflow/core/common_runtime/pluggable_device/pluggable_device_factory.cc:305] Could not identify NUMA node of platform GPU ID 0, defaulting to 0. Your kernel may not have been built with NUMA support.\n",
      "2022-10-12 01:43:02.517356: I tensorflow/core/common_runtime/pluggable_device/pluggable_device_factory.cc:271] Created TensorFlow device (/job:localhost/replica:0/task:0/device:GPU:0 with 0 MB memory) -> physical PluggableDevice (device: 0, name: METAL, pci bus id: <undefined>)\n"
     ]
    },
    {
     "data": {
      "text/plain": [
       "(TensorShape([36864, 1]), <tf.Tensor: shape=(), dtype=int32, numpy=16000>)"
      ]
     },
     "execution_count": 17,
     "metadata": {},
     "output_type": "execute_result"
    }
   ],
   "source": [
    "wav, sample_rate = tf.audio.decode_wav(tf.io.read_file(wav_files[3]))\n",
    "wav.shape, sample_rate"
   ]
  },
  {
   "cell_type": "code",
   "execution_count": 18,
   "id": "f23f809f",
   "metadata": {},
   "outputs": [
    {
     "data": {
      "image/png": "[encoded data removed]",
      "text/plain": [
       "<Figure size 640x480 with 1 Axes>"
      ]
     },
     "metadata": {},
     "output_type": "display_data"
    }
   ],
   "source": [
    "plt.plot(np.squeeze(wav.numpy()))\n",
    "plt.show()"
   ]
  },
  {
   "cell_type": "markdown",
   "id": "30298e9e",
   "metadata": {},
   "source": [
    "Pre-process data according to what Wav2Vec expects"
   ]
  },
  {
   "cell_type": "code",
   "execution_count": 19,
   "id": "5be3235e",
   "metadata": {},
   "outputs": [],
   "source": [
    "from wav2vec2 import Wav2Vec2Processor\n",
    "\n",
    "processor = Wav2Vec2Processor(is_tokenizer=False)\n",
    "\n",
    "def preprocess_speech(file_path):\n",
    "    audio, _ = tf.audio.decode_wav(tf.io.read_file(file_path))\n",
    "    return processor(tf.transpose(audio))"
   ]
  },
  {
   "cell_type": "code",
   "execution_count": 20,
   "id": "709251f9",
   "metadata": {},
   "outputs": [],
   "source": [
    "speech_ds = tf.data.Dataset.from_tensor_slices(wav_files).map(preprocess_speech, num_parallel_calls=tf.data.AUTOTUNE)\n",
    "speech_ds = speech_ds.padded_batch(BATCH_SIZE, padded_shapes=AUDIO_MAXLEN, padding_values=0.0)"
   ]
  },
  {
   "cell_type": "code",
   "execution_count": 22,
   "id": "bf345bc9",
   "metadata": {},
   "outputs": [
    {
     "data": {
      "image/png": "[encoded data removed]",
      "text/plain": [
       "<Figure size 640x480 with 1 Axes>"
      ]
     },
     "metadata": {},
     "output_type": "display_data"
    }
   ],
   "source": [
    "plt.plot(next(iter(speech_ds))[7])\n",
    "plt.show()"
   ]
  },
  {
   "cell_type": "markdown",
   "id": "cd8b16eb",
   "metadata": {},
   "source": [
    "## Create Targets"
   ]
  },
  {
   "cell_type": "markdown",
   "id": "605d71e8",
   "metadata": {},
   "source": [
    "* Decoder input is the target sequence without the EOS token \n",
    "* The output or prediction is the one-step ahead target sequence (predicts the next token)"
   ]
  },
  {
   "cell_type": "code",
   "execution_count": 23,
   "id": "df35328d",
   "metadata": {},
   "outputs": [],
   "source": [
    "def split_targets(target):\n",
    "    return target[:-1], target[1:]"
   ]
  },
  {
   "cell_type": "code",
   "execution_count": 24,
   "id": "5b3890ec",
   "metadata": {},
   "outputs": [],
   "source": [
    "targets_next_targets = [split_targets(full_target) for full_target in full_targets[:TINY_SIZE]]\n",
    "targets, next_targets = zip(*targets_next_targets)\n",
    "targets = list(targets)\n",
    "next_targets = list(next_targets)"
   ]
  },
  {
   "cell_type": "code",
   "execution_count": 25,
   "id": "b9958da9",
   "metadata": {},
   "outputs": [
    {
     "data": {
      "text/plain": [
       "(array([[ 0,  2, 22, 22,  1],\n",
       "        [ 0,  3,  9, 23,  1],\n",
       "        [ 0,  4, 10, 22,  1],\n",
       "        [ 0,  2, 11, 22,  1]]),\n",
       " [array([ 0,  2, 22, 22]),\n",
       "  array([ 0,  3,  9, 23]),\n",
       "  array([ 0,  4, 10, 22]),\n",
       "  array([ 0,  2, 11, 22]),\n",
       "  array([ 0,  5,  9, 23]),\n",
       "  array([ 0,  4, 10, 22]),\n",
       "  array([ 0,  3,  9, 24]),\n",
       "  array([ 0,  5, 12, 22]),\n",
       "  array([ 0,  5,  9, 22]),\n",
       "  array([ 0,  3,  9, 22])],\n",
       " [array([ 2, 22, 22,  1]),\n",
       "  array([ 3,  9, 23,  1]),\n",
       "  array([ 4, 10, 22,  1]),\n",
       "  array([ 2, 11, 22,  1]),\n",
       "  array([ 5,  9, 23,  1]),\n",
       "  array([ 4, 10, 22,  1]),\n",
       "  array([ 3,  9, 24,  1]),\n",
       "  array([ 5, 12, 22,  1]),\n",
       "  array([ 5,  9, 22,  1]),\n",
       "  array([ 3,  9, 22,  1])])"
      ]
     },
     "execution_count": 25,
     "metadata": {},
     "output_type": "execute_result"
    }
   ],
   "source": [
    "full_targets[:4], targets[:10], next_targets[:10]"
   ]
  },
  {
   "cell_type": "code",
   "execution_count": 26,
   "id": "168656a7",
   "metadata": {},
   "outputs": [],
   "source": [
    "target_ds = tf.data.Dataset.from_tensor_slices(targets).batch(BATCH_SIZE)\n",
    "next_target_ds = tf.data.Dataset.from_tensor_slices(next_targets).batch(BATCH_SIZE)"
   ]
  },
  {
   "cell_type": "code",
   "execution_count": 27,
   "id": "66cf7051",
   "metadata": {},
   "outputs": [],
   "source": [
    "train_ds = tf.data.Dataset.zip((speech_ds, target_ds, next_target_ds))"
   ]
  },
  {
   "cell_type": "code",
   "execution_count": 28,
   "id": "ff0b1b10",
   "metadata": {},
   "outputs": [],
   "source": [
    "def gerate_inputs_and_target(speech, target, next_target):\n",
    "    return {\"speech\": speech, \"target\": target}, next_target"
   ]
  },
  {
   "cell_type": "code",
   "execution_count": 29,
   "id": "0c2f1dbf",
   "metadata": {},
   "outputs": [],
   "source": [
    "train_ds = train_ds.map(gerate_inputs_and_target, num_parallel_calls=tf.data.AUTOTUNE).prefetch(tf.data.AUTOTUNE).cache()"
   ]
  },
  {
   "cell_type": "code",
   "execution_count": 30,
   "id": "c9394e7d",
   "metadata": {},
   "outputs": [
    {
     "name": "stderr",
     "output_type": "stream",
     "text": [
      "2022-10-12 01:43:34.252661: W tensorflow/core/kernels/data/cache_dataset_ops.cc:856] The calling iterator did not fully read the dataset being cached. In order to avoid unexpected truncation of the dataset, the partially cached contents of the dataset  will be discarded. This can happen if you have an input pipeline similar to `dataset.cache().take(k).repeat()`. You should use `dataset.take(k).cache().repeat()` instead.\n"
     ]
    },
    {
     "data": {
      "text/plain": [
       "({'speech': <tf.Tensor: shape=(8, 246000), dtype=float32, numpy=\n",
       "  array([[ 4.0663414e-05,  4.0663414e-05,  4.0663414e-05, ...,\n",
       "           0.0000000e+00,  0.0000000e+00,  0.0000000e+00],\n",
       "         [ 1.8023008e-04,  1.8023008e-04,  1.8023008e-04, ...,\n",
       "           0.0000000e+00,  0.0000000e+00,  0.0000000e+00],\n",
       "         [ 7.1622996e-04,  7.1622996e-04,  7.1622996e-04, ...,\n",
       "           0.0000000e+00,  0.0000000e+00,  0.0000000e+00],\n",
       "         ...,\n",
       "         [ 3.7090402e-04,  3.7090402e-04,  3.7090402e-04, ...,\n",
       "           0.0000000e+00,  0.0000000e+00,  0.0000000e+00],\n",
       "         [-3.6542895e-04, -3.6542895e-04, -3.6542895e-04, ...,\n",
       "           0.0000000e+00,  0.0000000e+00,  0.0000000e+00],\n",
       "         [ 6.0240287e-05,  6.0240287e-05,  6.0240287e-05, ...,\n",
       "           0.0000000e+00,  0.0000000e+00,  0.0000000e+00]], dtype=float32)>,\n",
       "  'target': <tf.Tensor: shape=(8, 4), dtype=int64, numpy=\n",
       "  array([[ 0,  2, 22, 22],\n",
       "         [ 0,  3,  9, 23],\n",
       "         [ 0,  4, 10, 22],\n",
       "         [ 0,  2, 11, 22],\n",
       "         [ 0,  5,  9, 23],\n",
       "         [ 0,  4, 10, 22],\n",
       "         [ 0,  3,  9, 24],\n",
       "         [ 0,  5, 12, 22]])>},\n",
       " <tf.Tensor: shape=(8, 4), dtype=int64, numpy=\n",
       " array([[ 2, 22, 22,  1],\n",
       "        [ 3,  9, 23,  1],\n",
       "        [ 4, 10, 22,  1],\n",
       "        [ 2, 11, 22,  1],\n",
       "        [ 5,  9, 23,  1],\n",
       "        [ 4, 10, 22,  1],\n",
       "        [ 3,  9, 24,  1],\n",
       "        [ 5, 12, 22,  1]])>)"
      ]
     },
     "execution_count": 30,
     "metadata": {},
     "output_type": "execute_result"
    }
   ],
   "source": [
    "in_batch = next(iter(train_ds))\n",
    "x_slu_inputs, y_next_targets = in_batch\n",
    "(x_slu_inputs,y_next_targets)"
   ]
  },
  {
   "cell_type": "markdown",
   "id": "c81317d0",
   "metadata": {},
   "source": [
    "## SLU Model"
   ]
  },
  {
   "cell_type": "markdown",
   "id": "2b87f313",
   "metadata": {},
   "source": [
    "Seq2Seq architecure:\n",
    "* Encoder: Uses Wave2Vec as feature extractor and averages Wav2Vec hidden states to produce speech encodings\n",
    "* Decoder: Embedding layer to represent targets, followed by a GRU decoder with initial states initialized to Encoder output. Final layer is softmax over the target distribution"
   ]
  },
  {
   "cell_type": "markdown",
   "id": "b6b0533f",
   "metadata": {},
   "source": [
    "###  Wave2Vec Feature Extractor"
   ]
  },
  {
   "cell_type": "code",
   "execution_count": 31,
   "id": "cc0462fa",
   "metadata": {},
   "outputs": [],
   "source": [
    "AUDIO_MAXLEN = 246000\n",
    "wav2vec_layer = hub.KerasLayer(\"https://tfhub.dev/vasudevgupta7/wav2vec2/1\", trainable=False)"
   ]
  },
  {
   "cell_type": "markdown",
   "id": "6618d859",
   "metadata": {},
   "source": [
    "### SLU Model with Decoder"
   ]
  },
  {
   "cell_type": "code",
   "execution_count": 32,
   "id": "2af69034",
   "metadata": {},
   "outputs": [],
   "source": [
    "vocab_size = len(index_to_target) + 2\n",
    "embedding_dim = 32\n",
    "latent_dim = 768\n",
    "max_input_len = 4"
   ]
  },
  {
   "cell_type": "code",
   "execution_count": 33,
   "id": "8c6df8ed",
   "metadata": {},
   "outputs": [],
   "source": [
    "# Encoder\n",
    "speech_in = tf.keras.Input(shape=(AUDIO_MAXLEN,), name='speech')\n",
    "speech_embeddings = wav2vec_layer(speech_in, training=False)\n",
    "hidden_state = tf.keras.layers.GlobalAveragePooling1D()(speech_embeddings)\n",
    "# Decoder\n",
    "dis_input = tf.keras.Input(shape=(max_input_len,), name='target')\n",
    "x = tf.keras.layers.Embedding(vocab_size, embedding_dim, mask_zero=True, input_length=max_input_len)(dis_input)\n",
    "gru_decoder = tf.keras.layers.GRU(latent_dim, return_sequences=True)\n",
    "x = gru_decoder(x, initial_state=hidden_state)\n",
    "x = tf.keras.layers.Dropout(0.2)(x)\n",
    "target_ns = tf.keras.layers.Dense(vocab_size, activation='softmax')(x)\n",
    "slu = tf.keras.Model(inputs={'speech': speech_in, 'target': dis_input}, outputs=target_ns, name='slu')"
   ]
  },
  {
   "cell_type": "code",
   "execution_count": 34,
   "id": "326e5eef",
   "metadata": {},
   "outputs": [
    {
     "name": "stdout",
     "output_type": "stream",
     "text": [
      "Model: \"slu\"\n",
      "__________________________________________________________________________________________________\n",
      " Layer (type)                   Output Shape         Param #     Connected to                     \n",
      "==================================================================================================\n",
      " speech (InputLayer)            [(None, 246000)]     0           []                               \n",
      "                                                                                                  \n",
      " target (InputLayer)            [(None, 4)]          0           []                               \n",
      "                                                                                                  \n",
      " keras_layer (KerasLayer)       (None, 768, 768)     94371712    ['speech[0][0]']                 \n",
      "                                                                                                  \n",
      " embedding (Embedding)          (None, 4, 32)        800         ['target[0][0]']                 \n",
      "                                                                                                  \n",
      " global_average_pooling1d (Glob  (None, 768)         0           ['keras_layer[0][0]']            \n",
      " alAveragePooling1D)                                                                              \n",
      "                                                                                                  \n",
      " gru (GRU)                      (None, 4, 768)       1847808     ['embedding[0][0]',              \n",
      "                                                                  'global_average_pooling1d[0][0]'\n",
      "                                                                 ]                                \n",
      "                                                                                                  \n",
      " dropout (Dropout)              (None, 4, 768)       0           ['gru[0][0]']                    \n",
      "                                                                                                  \n",
      " dense (Dense)                  (None, 4, 25)        19225       ['dropout[0][0]']                \n",
      "                                                                                                  \n",
      "==================================================================================================\n",
      "Total params: 96,239,545\n",
      "Trainable params: 1,867,833\n",
      "Non-trainable params: 94,371,712\n",
      "__________________________________________________________________________________________________\n"
     ]
    }
   ],
   "source": [
    "slu.summary()"
   ]
  },
  {
   "cell_type": "code",
   "execution_count": 35,
   "id": "81b5623d",
   "metadata": {},
   "outputs": [],
   "source": [
    "earlystopping_cb = tf.keras.callbacks.EarlyStopping(\n",
    "    monitor='loss',\n",
    "    patience=5,\n",
    "    restore_best_weights=True\n",
    ")"
   ]
  },
  {
   "cell_type": "code",
   "execution_count": 36,
   "id": "797d6afa",
   "metadata": {},
   "outputs": [],
   "source": [
    "slu.compile(loss=tf.keras.losses.SparseCategoricalCrossentropy(),\n",
    "            optimizer=tf.keras.optimizers.Adam(),\n",
    "            metrics=[\"accuracy\"])"
   ]
  },
  {
   "cell_type": "code",
   "execution_count": 37,
   "id": "567bacec",
   "metadata": {},
   "outputs": [
    {
     "name": "stdout",
     "output_type": "stream",
     "text": [
      "Epoch 1/50\n"
     ]
    },
    {
     "name": "stderr",
     "output_type": "stream",
     "text": [
      "2022-10-12 01:44:09.413779: I tensorflow/core/grappler/optimizers/custom_graph_optimizer_registry.cc:113] Plugin optimizer for device_type GPU is enabled.\n",
      "2022-10-12 01:44:15.278307: W tensorflow/core/common_runtime/forward_type_inference.cc:231] Type inference failed. This indicates an invalid graph that escaped type checking. Error message: INVALID_ARGUMENT: expected compatible input types, but input 1:\n",
      "type_id: TFT_OPTIONAL\n",
      "args {\n",
      "  type_id: TFT_PRODUCT\n",
      "  args {\n",
      "    type_id: TFT_TENSOR\n",
      "    args {\n",
      "      type_id: TFT_INT32\n",
      "    }\n",
      "  }\n",
      "}\n",
      " is neither a subtype nor a supertype of the combined inputs preceding it:\n",
      "type_id: TFT_OPTIONAL\n",
      "args {\n",
      "  type_id: TFT_PRODUCT\n",
      "  args {\n",
      "    type_id: TFT_TENSOR\n",
      "    args {\n",
      "      type_id: TFT_INT8\n",
      "    }\n",
      "  }\n",
      "}\n",
      "\n",
      "\twhile inferring type of node 'cond_41/output/_22'\n",
      "2022-10-12 01:44:15.286291: I tensorflow/core/grappler/optimizers/custom_graph_optimizer_registry.cc:113] Plugin optimizer for device_type GPU is enabled.\n",
      "2022-10-12 01:44:17.056250: I tensorflow/core/grappler/optimizers/custom_graph_optimizer_registry.cc:113] Plugin optimizer for device_type GPU is enabled.\n"
     ]
    },
    {
     "name": "stdout",
     "output_type": "stream",
     "text": [
      "16/16 [==============================] - 55s 3s/step - loss: 1.3423 - accuracy: 0.4844\n",
      "Epoch 2/50\n",
      "16/16 [==============================] - 42s 3s/step - loss: 0.7440 - accuracy: 0.6484\n",
      "Epoch 3/50\n",
      "16/16 [==============================] - 41s 3s/step - loss: 0.6087 - accuracy: 0.6927\n",
      "Epoch 4/50\n",
      "16/16 [==============================] - 42s 3s/step - loss: 0.5166 - accuracy: 0.7240\n",
      "Epoch 5/50\n",
      "16/16 [==============================] - 41s 3s/step - loss: 0.4257 - accuracy: 0.7760\n",
      "Epoch 6/50\n",
      "16/16 [==============================] - 41s 3s/step - loss: 0.3399 - accuracy: 0.8385\n",
      "Epoch 7/50\n",
      "16/16 [==============================] - 42s 3s/step - loss: 0.2753 - accuracy: 0.8542\n",
      "Epoch 8/50\n",
      "16/16 [==============================] - 43s 3s/step - loss: 0.2332 - accuracy: 0.8828\n",
      "Epoch 9/50\n",
      "16/16 [==============================] - 46s 3s/step - loss: 0.2024 - accuracy: 0.8958\n",
      "Epoch 10/50\n",
      "16/16 [==============================] - 43s 3s/step - loss: 0.1765 - accuracy: 0.9010\n",
      "Epoch 11/50\n",
      "16/16 [==============================] - 42s 3s/step - loss: 0.1479 - accuracy: 0.9036\n",
      "Epoch 12/50\n",
      "16/16 [==============================] - 42s 3s/step - loss: 0.1228 - accuracy: 0.9219\n",
      "Epoch 13/50\n",
      "16/16 [==============================] - 42s 3s/step - loss: 0.1100 - accuracy: 0.9349\n",
      "Epoch 14/50\n",
      "16/16 [==============================] - 43s 3s/step - loss: 0.1055 - accuracy: 0.9323\n",
      "Epoch 15/50\n",
      "16/16 [==============================] - 43s 3s/step - loss: 0.1132 - accuracy: 0.9245\n",
      "Epoch 16/50\n",
      "16/16 [==============================] - 43s 3s/step - loss: 0.1088 - accuracy: 0.9323\n",
      "Epoch 17/50\n",
      "16/16 [==============================] - 43s 3s/step - loss: 0.0856 - accuracy: 0.9375\n",
      "Epoch 18/50\n",
      "16/16 [==============================] - 43s 3s/step - loss: 0.0693 - accuracy: 0.9479\n",
      "Epoch 19/50\n",
      "16/16 [==============================] - 43s 3s/step - loss: 0.0638 - accuracy: 0.9609\n",
      "Epoch 20/50\n",
      "16/16 [==============================] - 43s 3s/step - loss: 0.0776 - accuracy: 0.9427\n",
      "Epoch 21/50\n",
      "16/16 [==============================] - 42s 3s/step - loss: 0.0848 - accuracy: 0.9375\n",
      "Epoch 22/50\n",
      "16/16 [==============================] - 42s 3s/step - loss: 0.0736 - accuracy: 0.9401\n",
      "Epoch 23/50\n",
      "16/16 [==============================] - 43s 3s/step - loss: 0.0564 - accuracy: 0.9479\n",
      "Epoch 24/50\n",
      "16/16 [==============================] - 42s 3s/step - loss: 0.0496 - accuracy: 0.9505\n",
      "Epoch 25/50\n",
      "16/16 [==============================] - 43s 3s/step - loss: 0.0689 - accuracy: 0.9427\n",
      "Epoch 26/50\n",
      "16/16 [==============================] - 43s 3s/step - loss: 0.0478 - accuracy: 0.9531\n",
      "Epoch 27/50\n",
      "16/16 [==============================] - 43s 3s/step - loss: 0.0410 - accuracy: 0.9557\n",
      "Epoch 28/50\n",
      "16/16 [==============================] - 44s 3s/step - loss: 0.0323 - accuracy: 0.9635\n",
      "Epoch 29/50\n",
      "16/16 [==============================] - 43s 3s/step - loss: 0.0290 - accuracy: 0.9635\n",
      "Epoch 30/50\n",
      "16/16 [==============================] - 42s 3s/step - loss: 0.0155 - accuracy: 0.9714\n",
      "Epoch 31/50\n",
      "16/16 [==============================] - 42s 3s/step - loss: 0.0147 - accuracy: 0.9714\n",
      "Epoch 32/50\n",
      "16/16 [==============================] - 42s 3s/step - loss: 0.0134 - accuracy: 0.9714\n",
      "Epoch 33/50\n",
      "16/16 [==============================] - 42s 3s/step - loss: 0.0112 - accuracy: 0.9714\n",
      "Epoch 34/50\n",
      "16/16 [==============================] - 42s 3s/step - loss: 0.0103 - accuracy: 0.9714\n",
      "Epoch 35/50\n",
      "16/16 [==============================] - 42s 3s/step - loss: 0.0096 - accuracy: 0.9714\n",
      "Epoch 36/50\n",
      "16/16 [==============================] - 42s 3s/step - loss: 0.0090 - accuracy: 0.9714\n",
      "Epoch 37/50\n",
      "16/16 [==============================] - 43s 3s/step - loss: 0.0082 - accuracy: 0.9714\n",
      "Epoch 38/50\n",
      "16/16 [==============================] - 42s 3s/step - loss: 0.0078 - accuracy: 0.9714\n",
      "Epoch 39/50\n",
      "16/16 [==============================] - 43s 3s/step - loss: 0.0072 - accuracy: 0.9714\n",
      "Epoch 40/50\n",
      "16/16 [==============================] - 43s 3s/step - loss: 0.0067 - accuracy: 0.9714\n",
      "Epoch 41/50\n",
      "16/16 [==============================] - 43s 3s/step - loss: 0.0063 - accuracy: 0.9714\n",
      "Epoch 42/50\n",
      "16/16 [==============================] - 43s 3s/step - loss: 0.0059 - accuracy: 0.9714\n",
      "Epoch 43/50\n",
      "16/16 [==============================] - 43s 3s/step - loss: 0.0056 - accuracy: 0.9714\n",
      "Epoch 44/50\n",
      "16/16 [==============================] - 44s 3s/step - loss: 0.0052 - accuracy: 0.9714\n",
      "Epoch 45/50\n",
      "16/16 [==============================] - 43s 3s/step - loss: 0.0048 - accuracy: 0.9714\n",
      "Epoch 46/50\n",
      "16/16 [==============================] - 44s 3s/step - loss: 0.0045 - accuracy: 0.9714\n",
      "Epoch 47/50\n",
      "16/16 [==============================] - 43s 3s/step - loss: 0.0042 - accuracy: 0.9714\n",
      "Epoch 48/50\n",
      "16/16 [==============================] - 42s 3s/step - loss: 0.0039 - accuracy: 0.9714\n",
      "Epoch 49/50\n",
      "16/16 [==============================] - 42s 3s/step - loss: 0.0037 - accuracy: 0.9714\n",
      "Epoch 50/50\n",
      "16/16 [==============================] - 42s 3s/step - loss: 0.0036 - accuracy: 0.9714\n"
     ]
    }
   ],
   "source": [
    "history = slu.fit(train_ds, epochs=50)"
   ]
  },
  {
   "cell_type": "code",
   "execution_count": 38,
   "id": "03fe7d18",
   "metadata": {},
   "outputs": [
    {
     "name": "stderr",
     "output_type": "stream",
     "text": [
      "2022-10-12 02:19:49.498303: I tensorflow/core/grappler/optimizers/custom_graph_optimizer_registry.cc:113] Plugin optimizer for device_type GPU is enabled.\n"
     ]
    },
    {
     "name": "stdout",
     "output_type": "stream",
     "text": [
      "1/1 [==============================] - 5s 5s/step\n"
     ]
    },
    {
     "name": "stderr",
     "output_type": "stream",
     "text": [
      "2022-10-12 02:19:53.336741: I tensorflow/core/grappler/optimizers/custom_graph_optimizer_registry.cc:113] Plugin optimizer for device_type GPU is enabled.\n"
     ]
    }
   ],
   "source": [
    "yh = slu.predict(x_slu_inputs)"
   ]
  },
  {
   "cell_type": "code",
   "execution_count": 39,
   "id": "25dc2130",
   "metadata": {},
   "outputs": [
    {
     "data": {
      "text/plain": [
       "(8, 4, 25)"
      ]
     },
     "execution_count": 39,
     "metadata": {},
     "output_type": "execute_result"
    }
   ],
   "source": [
    "yh.shape"
   ]
  },
  {
   "cell_type": "code",
   "execution_count": 40,
   "id": "7475185e",
   "metadata": {},
   "outputs": [
    {
     "data": {
      "text/plain": [
       "array([[ 1, 22, 22,  1],\n",
       "       [ 1,  9, 23,  1],\n",
       "       [ 1, 19, 22,  1],\n",
       "       [ 1, 22, 22,  1],\n",
       "       [ 1,  9, 22,  1],\n",
       "       [ 1, 19, 22,  1],\n",
       "       [ 1,  9, 23,  1],\n",
       "       [ 1, 12, 22,  1]])"
      ]
     },
     "execution_count": 40,
     "metadata": {},
     "output_type": "execute_result"
    }
   ],
   "source": [
    "yh.argmax(axis=-1)"
   ]
  },
  {
   "cell_type": "code",
   "execution_count": 41,
   "id": "badb0a87",
   "metadata": {},
   "outputs": [
    {
     "data": {
      "text/plain": [
       "<tf.Tensor: shape=(8, 4), dtype=int64, numpy=\n",
       "array([[ 2, 22, 22,  1],\n",
       "       [ 3,  9, 23,  1],\n",
       "       [ 4, 10, 22,  1],\n",
       "       [ 2, 11, 22,  1],\n",
       "       [ 5,  9, 23,  1],\n",
       "       [ 4, 10, 22,  1],\n",
       "       [ 3,  9, 24,  1],\n",
       "       [ 5, 12, 22,  1]])>"
      ]
     },
     "execution_count": 41,
     "metadata": {},
     "output_type": "execute_result"
    }
   ],
   "source": [
    "y_next_targets"
   ]
  },
  {
   "cell_type": "code",
   "execution_count": 42,
   "id": "49dbb83b",
   "metadata": {},
   "outputs": [
    {
     "data": {
      "text/plain": [
       "{2: 'change language',\n",
       " 3: 'increase',\n",
       " 4: 'bring',\n",
       " 5: 'decrease',\n",
       " 6: 'activate',\n",
       " 7: 'deactivate',\n",
       " 22: 'none',\n",
       " 9: 'heat',\n",
       " 10: 'shoes',\n",
       " 11: 'German',\n",
       " 12: 'volume',\n",
       " 13: 'lights',\n",
       " 14: 'Chinese',\n",
       " 15: 'lamp',\n",
       " 16: 'music',\n",
       " 17: 'juice',\n",
       " 18: 'English',\n",
       " 19: 'socks',\n",
       " 20: 'newspaper',\n",
       " 21: 'Korean',\n",
       " 23: 'washroom',\n",
       " 24: 'bedroom',\n",
       " 25: 'kitchen'}"
      ]
     },
     "execution_count": 42,
     "metadata": {},
     "output_type": "execute_result"
    }
   ],
   "source": [
    "index_to_target"
   ]
  },
  {
   "cell_type": "code",
   "execution_count": null,
   "id": "df304c1d",
   "metadata": {},
   "outputs": [],
   "source": []
  }
 ],
 "metadata": {
  "kernelspec": {
   "display_name": "slu",
   "language": "python",
   "name": "slu"
  },
  "language_info": {
   "codemirror_mode": {
    "name": "ipython",
    "version": 3
   },
   "file_extension": ".py",
   "mimetype": "text/x-python",
   "name": "python",
   "nbconvert_exporter": "python",
   "pygments_lexer": "ipython3",
   "version": "3.9.13"
  }
 },
 "nbformat": 4,
 "nbformat_minor": 5
}
